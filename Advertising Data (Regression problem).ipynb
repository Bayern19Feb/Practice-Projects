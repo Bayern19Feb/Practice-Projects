{
 "cells": [
  {
   "cell_type": "code",
   "execution_count": 1,
   "metadata": {},
   "outputs": [],
   "source": [
    "# importing libraries\n",
    "\n",
    "import numpy as np\n",
    "import pandas as pd\n",
    "import matplotlib.pyplot as plt\n",
    "import seaborn as sns\n",
    "\n",
    "%matplotlib inline"
   ]
  },
  {
   "cell_type": "code",
   "execution_count": 2,
   "metadata": {},
   "outputs": [],
   "source": [
    "# code to display rows and columns"
   ]
  },
  {
   "cell_type": "code",
   "execution_count": 3,
   "metadata": {},
   "outputs": [
    {
     "data": {
      "text/html": [
       "<style type=\"text/css\">\n",
       "table.dataframe td, table.dataframe th {\n",
       "    border: 1px  black solid !important;\n",
       "  color: black !important;\n",
       "}\n",
       "</style>\n"
      ],
      "text/plain": [
       "<IPython.core.display.HTML object>"
      ]
     },
     "metadata": {},
     "output_type": "display_data"
    }
   ],
   "source": [
    "%%HTML\n",
    "<style type=\"text/css\">\n",
    "table.dataframe td, table.dataframe th {\n",
    "    border: 1px  black solid !important;\n",
    "  color: black !important;\n",
    "}\n",
    "</style>"
   ]
  },
  {
   "cell_type": "code",
   "execution_count": 4,
   "metadata": {},
   "outputs": [],
   "source": [
    "# Code to display all the columns in the dataset\n",
    "pd.set_option('display.max_columns', None)"
   ]
  },
  {
   "cell_type": "code",
   "execution_count": 5,
   "metadata": {},
   "outputs": [],
   "source": [
    "import warnings\n",
    "warnings.filterwarnings('ignore')"
   ]
  },
  {
   "cell_type": "markdown",
   "metadata": {},
   "source": [
    "# importing dataset"
   ]
  },
  {
   "cell_type": "code",
   "execution_count": 6,
   "metadata": {},
   "outputs": [],
   "source": [
    "df = pd.read_csv(\"addata.csv\")"
   ]
  },
  {
   "cell_type": "code",
   "execution_count": 7,
   "metadata": {},
   "outputs": [
    {
     "data": {
      "text/html": [
       "<div>\n",
       "<style scoped>\n",
       "    .dataframe tbody tr th:only-of-type {\n",
       "        vertical-align: middle;\n",
       "    }\n",
       "\n",
       "    .dataframe tbody tr th {\n",
       "        vertical-align: top;\n",
       "    }\n",
       "\n",
       "    .dataframe thead th {\n",
       "        text-align: right;\n",
       "    }\n",
       "</style>\n",
       "<table border=\"1\" class=\"dataframe\">\n",
       "  <thead>\n",
       "    <tr style=\"text-align: right;\">\n",
       "      <th></th>\n",
       "      <th>Unnamed: 0</th>\n",
       "      <th>TV</th>\n",
       "      <th>radio</th>\n",
       "      <th>newspaper</th>\n",
       "      <th>sales</th>\n",
       "    </tr>\n",
       "  </thead>\n",
       "  <tbody>\n",
       "    <tr>\n",
       "      <th>0</th>\n",
       "      <td>1</td>\n",
       "      <td>230.1</td>\n",
       "      <td>37.8</td>\n",
       "      <td>69.2</td>\n",
       "      <td>22.1</td>\n",
       "    </tr>\n",
       "    <tr>\n",
       "      <th>1</th>\n",
       "      <td>2</td>\n",
       "      <td>44.5</td>\n",
       "      <td>39.3</td>\n",
       "      <td>45.1</td>\n",
       "      <td>10.4</td>\n",
       "    </tr>\n",
       "    <tr>\n",
       "      <th>2</th>\n",
       "      <td>3</td>\n",
       "      <td>17.2</td>\n",
       "      <td>45.9</td>\n",
       "      <td>69.3</td>\n",
       "      <td>9.3</td>\n",
       "    </tr>\n",
       "    <tr>\n",
       "      <th>3</th>\n",
       "      <td>4</td>\n",
       "      <td>151.5</td>\n",
       "      <td>41.3</td>\n",
       "      <td>58.5</td>\n",
       "      <td>18.5</td>\n",
       "    </tr>\n",
       "    <tr>\n",
       "      <th>4</th>\n",
       "      <td>5</td>\n",
       "      <td>180.8</td>\n",
       "      <td>10.8</td>\n",
       "      <td>58.4</td>\n",
       "      <td>12.9</td>\n",
       "    </tr>\n",
       "  </tbody>\n",
       "</table>\n",
       "</div>"
      ],
      "text/plain": [
       "   Unnamed: 0     TV  radio  newspaper  sales\n",
       "0           1  230.1   37.8       69.2   22.1\n",
       "1           2   44.5   39.3       45.1   10.4\n",
       "2           3   17.2   45.9       69.3    9.3\n",
       "3           4  151.5   41.3       58.5   18.5\n",
       "4           5  180.8   10.8       58.4   12.9"
      ]
     },
     "execution_count": 7,
     "metadata": {},
     "output_type": "execute_result"
    }
   ],
   "source": [
    "df.head()"
   ]
  },
  {
   "cell_type": "code",
   "execution_count": 8,
   "metadata": {},
   "outputs": [],
   "source": [
    "# Column Description"
   ]
  },
  {
   "cell_type": "code",
   "execution_count": 9,
   "metadata": {},
   "outputs": [],
   "source": [
    "# Tv --> amount spent on TV sales\n",
    "\n",
    "# Radio --> amount spent on radio sales\n",
    "\n",
    "# Newspaper --> amount spent on newspaper sales\n",
    "\n",
    "# Sales --> total sales generated"
   ]
  },
  {
   "cell_type": "markdown",
   "metadata": {},
   "source": [
    "# Problem Type"
   ]
  },
  {
   "cell_type": "raw",
   "metadata": {},
   "source": [
    "Conclusions after understanding the data set:-\n",
    "\n",
    "1) The target variable is Sales\n",
    "\n",
    "2) Solving it as a Regression Problem "
   ]
  },
  {
   "cell_type": "code",
   "execution_count": 10,
   "metadata": {},
   "outputs": [],
   "source": [
    "# Lets drop the Unnamed column as it has no significance\n",
    "\n",
    "df = df.drop(\"Unnamed: 0\",axis=1)"
   ]
  },
  {
   "cell_type": "code",
   "execution_count": 11,
   "metadata": {},
   "outputs": [
    {
     "data": {
      "text/plain": [
       "TV           float64\n",
       "radio        float64\n",
       "newspaper    float64\n",
       "sales        float64\n",
       "dtype: object"
      ]
     },
     "execution_count": 11,
     "metadata": {},
     "output_type": "execute_result"
    }
   ],
   "source": [
    "# Checking the data types\n",
    "\n",
    "df.dtypes"
   ]
  },
  {
   "cell_type": "code",
   "execution_count": 12,
   "metadata": {},
   "outputs": [],
   "source": [
    "# All the datatypes are float"
   ]
  },
  {
   "cell_type": "code",
   "execution_count": 13,
   "metadata": {},
   "outputs": [
    {
     "data": {
      "text/plain": [
       "(200, 4)"
      ]
     },
     "execution_count": 13,
     "metadata": {},
     "output_type": "execute_result"
    }
   ],
   "source": [
    "# checking shape of data\n",
    "\n",
    "df.shape"
   ]
  },
  {
   "cell_type": "code",
   "execution_count": 14,
   "metadata": {},
   "outputs": [],
   "source": [
    "# Rows --> 200\n",
    "# Columns --> 4"
   ]
  },
  {
   "cell_type": "code",
   "execution_count": 15,
   "metadata": {},
   "outputs": [
    {
     "data": {
      "text/html": [
       "<div>\n",
       "<style scoped>\n",
       "    .dataframe tbody tr th:only-of-type {\n",
       "        vertical-align: middle;\n",
       "    }\n",
       "\n",
       "    .dataframe tbody tr th {\n",
       "        vertical-align: top;\n",
       "    }\n",
       "\n",
       "    .dataframe thead th {\n",
       "        text-align: right;\n",
       "    }\n",
       "</style>\n",
       "<table border=\"1\" class=\"dataframe\">\n",
       "  <thead>\n",
       "    <tr style=\"text-align: right;\">\n",
       "      <th></th>\n",
       "      <th>count</th>\n",
       "      <th>mean</th>\n",
       "      <th>std</th>\n",
       "      <th>min</th>\n",
       "      <th>25%</th>\n",
       "      <th>50%</th>\n",
       "      <th>75%</th>\n",
       "      <th>max</th>\n",
       "    </tr>\n",
       "  </thead>\n",
       "  <tbody>\n",
       "    <tr>\n",
       "      <th>TV</th>\n",
       "      <td>200.0</td>\n",
       "      <td>147.0425</td>\n",
       "      <td>85.854236</td>\n",
       "      <td>0.7</td>\n",
       "      <td>74.375</td>\n",
       "      <td>149.75</td>\n",
       "      <td>218.825</td>\n",
       "      <td>296.4</td>\n",
       "    </tr>\n",
       "    <tr>\n",
       "      <th>radio</th>\n",
       "      <td>200.0</td>\n",
       "      <td>23.2640</td>\n",
       "      <td>14.846809</td>\n",
       "      <td>0.0</td>\n",
       "      <td>9.975</td>\n",
       "      <td>22.90</td>\n",
       "      <td>36.525</td>\n",
       "      <td>49.6</td>\n",
       "    </tr>\n",
       "    <tr>\n",
       "      <th>newspaper</th>\n",
       "      <td>200.0</td>\n",
       "      <td>30.5540</td>\n",
       "      <td>21.778621</td>\n",
       "      <td>0.3</td>\n",
       "      <td>12.750</td>\n",
       "      <td>25.75</td>\n",
       "      <td>45.100</td>\n",
       "      <td>114.0</td>\n",
       "    </tr>\n",
       "    <tr>\n",
       "      <th>sales</th>\n",
       "      <td>200.0</td>\n",
       "      <td>14.0225</td>\n",
       "      <td>5.217457</td>\n",
       "      <td>1.6</td>\n",
       "      <td>10.375</td>\n",
       "      <td>12.90</td>\n",
       "      <td>17.400</td>\n",
       "      <td>27.0</td>\n",
       "    </tr>\n",
       "  </tbody>\n",
       "</table>\n",
       "</div>"
      ],
      "text/plain": [
       "           count      mean        std  min     25%     50%      75%    max\n",
       "TV         200.0  147.0425  85.854236  0.7  74.375  149.75  218.825  296.4\n",
       "radio      200.0   23.2640  14.846809  0.0   9.975   22.90   36.525   49.6\n",
       "newspaper  200.0   30.5540  21.778621  0.3  12.750   25.75   45.100  114.0\n",
       "sales      200.0   14.0225   5.217457  1.6  10.375   12.90   17.400   27.0"
      ]
     },
     "execution_count": 15,
     "metadata": {},
     "output_type": "execute_result"
    }
   ],
   "source": [
    "# using Describe to get an overview of data\n",
    "df.describe().transpose()"
   ]
  },
  {
   "cell_type": "code",
   "execution_count": 16,
   "metadata": {},
   "outputs": [],
   "source": [
    "# Overview of data\n",
    "\n",
    "# The investments on television Adds ranges between (0.7 to 296.4)\n",
    "\n",
    "# The investments on radio Adds ranges between (14.84 to 49.6)\n",
    "\n",
    "# The investments on newspaper Adds ranges between (1.6 to 27)\n",
    "\n",
    "# one of the observation is higher amount is invested on TV adds\n",
    "\n",
    "# A significant low amount is invested in newspaper adds\n",
    "\n",
    "# Higher chances of TV adds being more expensive than newspaper adds"
   ]
  },
  {
   "cell_type": "code",
   "execution_count": 17,
   "metadata": {},
   "outputs": [
    {
     "data": {
      "text/html": [
       "<div>\n",
       "<style scoped>\n",
       "    .dataframe tbody tr th:only-of-type {\n",
       "        vertical-align: middle;\n",
       "    }\n",
       "\n",
       "    .dataframe tbody tr th {\n",
       "        vertical-align: top;\n",
       "    }\n",
       "\n",
       "    .dataframe thead th {\n",
       "        text-align: right;\n",
       "    }\n",
       "</style>\n",
       "<table border=\"1\" class=\"dataframe\">\n",
       "  <thead>\n",
       "    <tr style=\"text-align: right;\">\n",
       "      <th></th>\n",
       "      <th>TV</th>\n",
       "      <th>radio</th>\n",
       "      <th>newspaper</th>\n",
       "      <th>sales</th>\n",
       "    </tr>\n",
       "  </thead>\n",
       "  <tbody>\n",
       "    <tr>\n",
       "      <th>101</th>\n",
       "      <td>296.4</td>\n",
       "      <td>36.3</td>\n",
       "      <td>100.9</td>\n",
       "      <td>23.8</td>\n",
       "    </tr>\n",
       "  </tbody>\n",
       "</table>\n",
       "</div>"
      ],
      "text/plain": [
       "        TV  radio  newspaper  sales\n",
       "101  296.4   36.3      100.9   23.8"
      ]
     },
     "execution_count": 17,
     "metadata": {},
     "output_type": "execute_result"
    }
   ],
   "source": [
    "# Max investment on TV\n",
    "\n",
    "# the highest TV add investment is 296.4 \n",
    "\n",
    "df[df[\"TV\"] == 296.4]"
   ]
  },
  {
   "cell_type": "code",
   "execution_count": 18,
   "metadata": {},
   "outputs": [
    {
     "data": {
      "text/html": [
       "<div>\n",
       "<style scoped>\n",
       "    .dataframe tbody tr th:only-of-type {\n",
       "        vertical-align: middle;\n",
       "    }\n",
       "\n",
       "    .dataframe tbody tr th {\n",
       "        vertical-align: top;\n",
       "    }\n",
       "\n",
       "    .dataframe thead th {\n",
       "        text-align: right;\n",
       "    }\n",
       "</style>\n",
       "<table border=\"1\" class=\"dataframe\">\n",
       "  <thead>\n",
       "    <tr style=\"text-align: right;\">\n",
       "      <th></th>\n",
       "      <th>TV</th>\n",
       "      <th>radio</th>\n",
       "      <th>newspaper</th>\n",
       "      <th>sales</th>\n",
       "    </tr>\n",
       "  </thead>\n",
       "  <tbody>\n",
       "    <tr>\n",
       "      <th>58</th>\n",
       "      <td>210.8</td>\n",
       "      <td>49.6</td>\n",
       "      <td>37.7</td>\n",
       "      <td>23.8</td>\n",
       "    </tr>\n",
       "  </tbody>\n",
       "</table>\n",
       "</div>"
      ],
      "text/plain": [
       "       TV  radio  newspaper  sales\n",
       "58  210.8   49.6       37.7   23.8"
      ]
     },
     "execution_count": 18,
     "metadata": {},
     "output_type": "execute_result"
    }
   ],
   "source": [
    "# Max investment on radio\n",
    "\n",
    "# the highest radio add investment is only 49.6 \n",
    "\n",
    "df[df[\"radio\"] == 49.6]"
   ]
  },
  {
   "cell_type": "code",
   "execution_count": 19,
   "metadata": {},
   "outputs": [
    {
     "data": {
      "text/html": [
       "<div>\n",
       "<style scoped>\n",
       "    .dataframe tbody tr th:only-of-type {\n",
       "        vertical-align: middle;\n",
       "    }\n",
       "\n",
       "    .dataframe tbody tr th {\n",
       "        vertical-align: top;\n",
       "    }\n",
       "\n",
       "    .dataframe thead th {\n",
       "        text-align: right;\n",
       "    }\n",
       "</style>\n",
       "<table border=\"1\" class=\"dataframe\">\n",
       "  <thead>\n",
       "    <tr style=\"text-align: right;\">\n",
       "      <th></th>\n",
       "      <th>TV</th>\n",
       "      <th>radio</th>\n",
       "      <th>newspaper</th>\n",
       "      <th>sales</th>\n",
       "    </tr>\n",
       "  </thead>\n",
       "  <tbody>\n",
       "    <tr>\n",
       "      <th>16</th>\n",
       "      <td>67.8</td>\n",
       "      <td>36.6</td>\n",
       "      <td>114.0</td>\n",
       "      <td>12.5</td>\n",
       "    </tr>\n",
       "  </tbody>\n",
       "</table>\n",
       "</div>"
      ],
      "text/plain": [
       "      TV  radio  newspaper  sales\n",
       "16  67.8   36.6      114.0   12.5"
      ]
     },
     "execution_count": 19,
     "metadata": {},
     "output_type": "execute_result"
    }
   ],
   "source": [
    "# Max investment on newspaper\n",
    "\n",
    "# the highest newspaper add investment is 114.0 \n",
    "\n",
    "df[df[\"newspaper\"] == 114.0]"
   ]
  },
  {
   "cell_type": "code",
   "execution_count": 20,
   "metadata": {},
   "outputs": [
    {
     "data": {
      "text/html": [
       "<div>\n",
       "<style scoped>\n",
       "    .dataframe tbody tr th:only-of-type {\n",
       "        vertical-align: middle;\n",
       "    }\n",
       "\n",
       "    .dataframe tbody tr th {\n",
       "        vertical-align: top;\n",
       "    }\n",
       "\n",
       "    .dataframe thead th {\n",
       "        text-align: right;\n",
       "    }\n",
       "</style>\n",
       "<table border=\"1\" class=\"dataframe\">\n",
       "  <thead>\n",
       "    <tr style=\"text-align: right;\">\n",
       "      <th></th>\n",
       "      <th>TV</th>\n",
       "      <th>radio</th>\n",
       "      <th>newspaper</th>\n",
       "      <th>sales</th>\n",
       "    </tr>\n",
       "  </thead>\n",
       "  <tbody>\n",
       "    <tr>\n",
       "      <th>175</th>\n",
       "      <td>276.9</td>\n",
       "      <td>48.9</td>\n",
       "      <td>41.8</td>\n",
       "      <td>27.0</td>\n",
       "    </tr>\n",
       "  </tbody>\n",
       "</table>\n",
       "</div>"
      ],
      "text/plain": [
       "        TV  radio  newspaper  sales\n",
       "175  276.9   48.9       41.8   27.0"
      ]
     },
     "execution_count": 20,
     "metadata": {},
     "output_type": "execute_result"
    }
   ],
   "source": [
    "# Max Sale\n",
    "\n",
    "# the highest sales rate for adds is 27 \n",
    "\n",
    "df[df[\"sales\"] == 27.0]"
   ]
  },
  {
   "cell_type": "code",
   "execution_count": 21,
   "metadata": {},
   "outputs": [
    {
     "data": {
      "text/plain": [
       "0"
      ]
     },
     "execution_count": 21,
     "metadata": {},
     "output_type": "execute_result"
    }
   ],
   "source": [
    "#Lets check for duplicate values\n",
    "df.duplicated().sum()"
   ]
  },
  {
   "cell_type": "code",
   "execution_count": 22,
   "metadata": {},
   "outputs": [],
   "source": [
    "# No duplicate values"
   ]
  },
  {
   "cell_type": "code",
   "execution_count": 23,
   "metadata": {},
   "outputs": [
    {
     "data": {
      "text/plain": [
       "TV           0\n",
       "radio        0\n",
       "newspaper    0\n",
       "sales        0\n",
       "dtype: int64"
      ]
     },
     "execution_count": 23,
     "metadata": {},
     "output_type": "execute_result"
    }
   ],
   "source": [
    "# Lets check for missing values\n",
    "df.isnull().sum()"
   ]
  },
  {
   "cell_type": "code",
   "execution_count": 24,
   "metadata": {},
   "outputs": [],
   "source": [
    "# No null values"
   ]
  },
  {
   "cell_type": "code",
   "execution_count": 25,
   "metadata": {},
   "outputs": [
    {
     "data": {
      "text/plain": [
       "<AxesSubplot:>"
      ]
     },
     "execution_count": 25,
     "metadata": {},
     "output_type": "execute_result"
    },
    {
     "data": {
      "image/png": "[encoded data removed]",
      "text/plain": [
       "<Figure size 576x576 with 2 Axes>"
      ]
     },
     "metadata": {
      "needs_background": "light"
     },
     "output_type": "display_data"
    }
   ],
   "source": [
    "# Visualizing the missing values\n",
    "plt.figure(figsize=(8,8))\n",
    "sns.heatmap(df.isnull())"
   ]
  },
  {
   "cell_type": "code",
   "execution_count": 26,
   "metadata": {},
   "outputs": [],
   "source": [
    "# No null values"
   ]
  },
  {
   "cell_type": "code",
   "execution_count": 27,
   "metadata": {},
   "outputs": [
    {
     "data": {
      "text/plain": [
       "Index(['TV', 'radio', 'newspaper', 'sales'], dtype='object')"
      ]
     },
     "execution_count": 27,
     "metadata": {},
     "output_type": "execute_result"
    }
   ],
   "source": [
    "# Checking out the columns\n",
    "df.columns"
   ]
  },
  {
   "cell_type": "markdown",
   "metadata": {},
   "source": [
    "# EDA"
   ]
  },
  {
   "cell_type": "code",
   "execution_count": 28,
   "metadata": {},
   "outputs": [],
   "source": [
    "sns.set_theme(style=\"darkgrid\")"
   ]
  },
  {
   "cell_type": "code",
   "execution_count": 29,
   "metadata": {},
   "outputs": [
    {
     "data": {
      "text/plain": [
       "<AxesSubplot:xlabel='TV', ylabel='Count'>"
      ]
     },
     "execution_count": 29,
     "metadata": {},
     "output_type": "execute_result"
    },
    {
     "data": {
      "image/png": "[encoded data removed]",
      "text/plain": [
       "<Figure size 432x288 with 1 Axes>"
      ]
     },
     "metadata": {},
     "output_type": "display_data"
    }
   ],
   "source": [
    "sns.histplot(x=\"TV\",data=df,bins=30)"
   ]
  },
  {
   "cell_type": "code",
   "execution_count": 30,
   "metadata": {},
   "outputs": [],
   "source": [
    "# Range of investment in TV is approx between (0 - 300)\n",
    "\n",
    "# There is higher investment in TV than radio and newspaper"
   ]
  },
  {
   "cell_type": "code",
   "execution_count": 31,
   "metadata": {},
   "outputs": [
    {
     "data": {
      "text/plain": [
       "<AxesSubplot:xlabel='radio', ylabel='Count'>"
      ]
     },
     "execution_count": 31,
     "metadata": {},
     "output_type": "execute_result"
    },
    {
     "data": {
      "image/png": "[encoded data removed]",
      "text/plain": [
       "<Figure size 432x288 with 1 Axes>"
      ]
     },
     "metadata": {},
     "output_type": "display_data"
    }
   ],
   "source": [
    "sns.histplot(x=\"radio\",data=df,bins=30)"
   ]
  },
  {
   "cell_type": "code",
   "execution_count": 32,
   "metadata": {},
   "outputs": [],
   "source": [
    "# The range of investment in radio is approx between (0-5)\n",
    "\n",
    "# so we can say that radio has the least investment"
   ]
  },
  {
   "cell_type": "code",
   "execution_count": 33,
   "metadata": {},
   "outputs": [
    {
     "data": {
      "text/plain": [
       "<AxesSubplot:xlabel='newspaper', ylabel='Count'>"
      ]
     },
     "execution_count": 33,
     "metadata": {},
     "output_type": "execute_result"
    },
    {
     "data": {
      "image/png": "[encoded data removed]",
      "text/plain": [
       "<Figure size 432x288 with 1 Axes>"
      ]
     },
     "metadata": {},
     "output_type": "display_data"
    }
   ],
   "source": [
    "sns.histplot(x=\"newspaper\",data=df,bins=30)"
   ]
  },
  {
   "cell_type": "code",
   "execution_count": 34,
   "metadata": {},
   "outputs": [],
   "source": [
    "# The range of investment in radio is approx between (0-120)\n",
    "\n",
    "# so we can say that newspaper has the best investment after Tv\n",
    "\n",
    "# Maximum newspaper rates ranges between (0 , 20)"
   ]
  },
  {
   "cell_type": "code",
   "execution_count": 35,
   "metadata": {},
   "outputs": [],
   "source": [
    "# From the above plots we conclude that Radio < Newspaper < TV"
   ]
  },
  {
   "cell_type": "code",
   "execution_count": 36,
   "metadata": {},
   "outputs": [
    {
     "data": {
      "text/plain": [
       "<AxesSubplot:xlabel='sales', ylabel='Count'>"
      ]
     },
     "execution_count": 36,
     "metadata": {},
     "output_type": "execute_result"
    },
    {
     "data": {
      "image/png": "[encoded data removed]",
      "text/plain": [
       "<Figure size 432x288 with 1 Axes>"
      ]
     },
     "metadata": {},
     "output_type": "display_data"
    }
   ],
   "source": [
    "sns.histplot(x=\"sales\",data=df,bins=30)"
   ]
  },
  {
   "cell_type": "code",
   "execution_count": 37,
   "metadata": {},
   "outputs": [],
   "source": [
    "# Approximately the sale ranges from (1 - 27)\n",
    "\n",
    "# Most of the sales amount are exponential between (10 to 14)"
   ]
  },
  {
   "cell_type": "code",
   "execution_count": 38,
   "metadata": {},
   "outputs": [
    {
     "data": {
      "text/plain": [
       "Index(['TV', 'radio', 'newspaper', 'sales'], dtype='object')"
      ]
     },
     "execution_count": 38,
     "metadata": {},
     "output_type": "execute_result"
    }
   ],
   "source": [
    "df.columns"
   ]
  },
  {
   "cell_type": "code",
   "execution_count": 39,
   "metadata": {},
   "outputs": [
    {
     "data": {
      "text/plain": [
       "<seaborn.axisgrid.JointGrid at 0x29ebaf52d90>"
      ]
     },
     "execution_count": 39,
     "metadata": {},
     "output_type": "execute_result"
    },
    {
     "data": {
      "image/png": "[encoded data removed]",
      "text/plain": [
       "<Figure size 432x432 with 3 Axes>"
      ]
     },
     "metadata": {},
     "output_type": "display_data"
    }
   ],
   "source": [
    "sns.jointplot(x=\"TV\",y=\"sales\",data=df)"
   ]
  },
  {
   "cell_type": "code",
   "execution_count": 40,
   "metadata": {},
   "outputs": [],
   "source": [
    "# We can say as the tv investment increases the Sales range increases\n",
    "\n",
    "# Tv and sales are having a high linear relationship "
   ]
  },
  {
   "cell_type": "code",
   "execution_count": 41,
   "metadata": {},
   "outputs": [
    {
     "data": {
      "text/plain": [
       "<seaborn.axisgrid.JointGrid at 0x29ebb072130>"
      ]
     },
     "execution_count": 41,
     "metadata": {},
     "output_type": "execute_result"
    },
    {
     "data": {
      "image/png": "[encoded data removed]",
      "text/plain": [
       "<Figure size 432x432 with 3 Axes>"
      ]
     },
     "metadata": {},
     "output_type": "display_data"
    }
   ],
   "source": [
    "sns.jointplot(x=\"newspaper\",y=\"sales\",data=df)"
   ]
  },
  {
   "cell_type": "code",
   "execution_count": 42,
   "metadata": {},
   "outputs": [],
   "source": [
    "# we can observe that newspaper doesnot have good correlation with sales "
   ]
  },
  {
   "cell_type": "code",
   "execution_count": 43,
   "metadata": {},
   "outputs": [
    {
     "data": {
      "text/plain": [
       "<seaborn.axisgrid.JointGrid at 0x29ebae03580>"
      ]
     },
     "execution_count": 43,
     "metadata": {},
     "output_type": "execute_result"
    },
    {
     "data": {
      "image/png": "[encoded data removed]",
      "text/plain": [
       "<Figure size 432x432 with 3 Axes>"
      ]
     },
     "metadata": {},
     "output_type": "display_data"
    }
   ],
   "source": [
    "sns.jointplot(x=\"radio\",y=\"sales\",data=df)"
   ]
  },
  {
   "cell_type": "code",
   "execution_count": 44,
   "metadata": {},
   "outputs": [],
   "source": [
    "# we can observe that radio does have some correlation with sales "
   ]
  },
  {
   "cell_type": "code",
   "execution_count": 45,
   "metadata": {},
   "outputs": [],
   "source": [
    "# lets check correlation\n",
    "cor = df.corr()"
   ]
  },
  {
   "cell_type": "code",
   "execution_count": 46,
   "metadata": {},
   "outputs": [
    {
     "data": {
      "text/plain": [
       "<AxesSubplot:>"
      ]
     },
     "execution_count": 46,
     "metadata": {},
     "output_type": "execute_result"
    },
    {
     "data": {
      "image/png": "[encoded data removed]",
      "text/plain": [
       "<Figure size 576x576 with 2 Axes>"
      ]
     },
     "metadata": {},
     "output_type": "display_data"
    }
   ],
   "source": [
    "plt.figure(figsize=(8,8))\n",
    "sns.heatmap(data=cor,annot=True,linecolor=\"black\",linewidths=1)"
   ]
  },
  {
   "cell_type": "code",
   "execution_count": 47,
   "metadata": {},
   "outputs": [],
   "source": [
    "# as we can observe TV is an very important feature\n",
    "\n",
    "# radio also has good correlation with target variable\n",
    "\n",
    "# newspaper has the least correlation among all three inputs"
   ]
  },
  {
   "cell_type": "code",
   "execution_count": 48,
   "metadata": {},
   "outputs": [
    {
     "data": {
      "text/plain": [
       "<seaborn.axisgrid.FacetGrid at 0x29ebb458f70>"
      ]
     },
     "execution_count": 48,
     "metadata": {},
     "output_type": "execute_result"
    },
    {
     "data": {
      "text/plain": [
       "<Figure size 576x576 with 0 Axes>"
      ]
     },
     "metadata": {},
     "output_type": "display_data"
    },
    {
     "data": {
      "image/png": "[encoded data removed]",
      "text/plain": [
       "<Figure size 360x360 with 1 Axes>"
      ]
     },
     "metadata": {},
     "output_type": "display_data"
    }
   ],
   "source": [
    "plt.figure(figsize=(8,8))\n",
    "sns.relplot(x=\"TV\",y=\"sales\",kind=\"line\",data=df)"
   ]
  },
  {
   "cell_type": "code",
   "execution_count": 49,
   "metadata": {},
   "outputs": [],
   "source": [
    "# We can observe how sales go upward with increase in investment on TV"
   ]
  },
  {
   "cell_type": "code",
   "execution_count": 50,
   "metadata": {},
   "outputs": [
    {
     "data": {
      "text/plain": [
       "<seaborn.axisgrid.FacetGrid at 0x29ebb341bb0>"
      ]
     },
     "execution_count": 50,
     "metadata": {},
     "output_type": "execute_result"
    },
    {
     "data": {
      "text/plain": [
       "<Figure size 576x576 with 0 Axes>"
      ]
     },
     "metadata": {},
     "output_type": "display_data"
    },
    {
     "data": {
      "image/png": "[encoded data removed]",
      "text/plain": [
       "<Figure size 360x360 with 1 Axes>"
      ]
     },
     "metadata": {},
     "output_type": "display_data"
    }
   ],
   "source": [
    "plt.figure(figsize=(8,8))\n",
    "sns.relplot(x=\"radio\",y=\"sales\",kind=\"line\",data=df)"
   ]
  },
  {
   "cell_type": "code",
   "execution_count": 51,
   "metadata": {},
   "outputs": [],
   "source": [
    "# The increase is Not as good as TV but better than newspaper"
   ]
  },
  {
   "cell_type": "code",
   "execution_count": 52,
   "metadata": {},
   "outputs": [
    {
     "data": {
      "text/plain": [
       "<seaborn.axisgrid.FacetGrid at 0x29ebb341970>"
      ]
     },
     "execution_count": 52,
     "metadata": {},
     "output_type": "execute_result"
    },
    {
     "data": {
      "text/plain": [
       "<Figure size 576x576 with 0 Axes>"
      ]
     },
     "metadata": {},
     "output_type": "display_data"
    },
    {
     "data": {
      "image/png": "[encoded data removed]",
      "text/plain": [
       "<Figure size 360x360 with 1 Axes>"
      ]
     },
     "metadata": {},
     "output_type": "display_data"
    }
   ],
   "source": [
    "plt.figure(figsize=(8,8))\n",
    "sns.relplot(x=\"newspaper\",y=\"sales\",kind=\"line\",data=df)"
   ]
  },
  {
   "cell_type": "code",
   "execution_count": 53,
   "metadata": {},
   "outputs": [],
   "source": [
    "# Newspaper is having some impact but not as good as TV or radio"
   ]
  },
  {
   "cell_type": "code",
   "execution_count": 54,
   "metadata": {},
   "outputs": [],
   "source": [
    "# No significant effect of newspaper on sales"
   ]
  },
  {
   "cell_type": "markdown",
   "metadata": {},
   "source": [
    "# DATA CLEANING"
   ]
  },
  {
   "cell_type": "code",
   "execution_count": 55,
   "metadata": {},
   "outputs": [],
   "source": [
    "# Outliers"
   ]
  },
  {
   "cell_type": "code",
   "execution_count": 56,
   "metadata": {},
   "outputs": [
    {
     "data": {
      "text/plain": [
       "<AxesSubplot:xlabel='TV'>"
      ]
     },
     "execution_count": 56,
     "metadata": {},
     "output_type": "execute_result"
    },
    {
     "data": {
      "image/png": "[encoded data removed]",
      "text/plain": [
       "<Figure size 432x288 with 1 Axes>"
      ]
     },
     "metadata": {},
     "output_type": "display_data"
    }
   ],
   "source": [
    "sns.boxplot(x=\"TV\",data=df)"
   ]
  },
  {
   "cell_type": "code",
   "execution_count": 57,
   "metadata": {},
   "outputs": [],
   "source": [
    "# No outliers in tv"
   ]
  },
  {
   "cell_type": "code",
   "execution_count": 58,
   "metadata": {},
   "outputs": [
    {
     "data": {
      "text/plain": [
       "<AxesSubplot:xlabel='radio'>"
      ]
     },
     "execution_count": 58,
     "metadata": {},
     "output_type": "execute_result"
    },
    {
     "data": {
      "image/png": "[encoded data removed]",
      "text/plain": [
       "<Figure size 432x288 with 1 Axes>"
      ]
     },
     "metadata": {},
     "output_type": "display_data"
    }
   ],
   "source": [
    "sns.boxplot(x=\"radio\",data=df)"
   ]
  },
  {
   "cell_type": "code",
   "execution_count": 59,
   "metadata": {},
   "outputs": [],
   "source": [
    "# No outliers in radio"
   ]
  },
  {
   "cell_type": "code",
   "execution_count": 60,
   "metadata": {},
   "outputs": [
    {
     "data": {
      "text/plain": [
       "<AxesSubplot:xlabel='newspaper'>"
      ]
     },
     "execution_count": 60,
     "metadata": {},
     "output_type": "execute_result"
    },
    {
     "data": {
      "image/png": "[encoded data removed]",
      "text/plain": [
       "<Figure size 432x288 with 1 Axes>"
      ]
     },
     "metadata": {},
     "output_type": "display_data"
    }
   ],
   "source": [
    "sns.boxplot(x=\"newspaper\",data=df)"
   ]
  },
  {
   "cell_type": "code",
   "execution_count": 61,
   "metadata": {},
   "outputs": [],
   "source": [
    "# Some outliers in newspaper"
   ]
  },
  {
   "cell_type": "code",
   "execution_count": 62,
   "metadata": {},
   "outputs": [],
   "source": [
    "from scipy import stats"
   ]
  },
  {
   "cell_type": "code",
   "execution_count": 63,
   "metadata": {},
   "outputs": [],
   "source": [
    "# creating function to count outliers\n",
    "def outliers(cname):\n",
    "    Q1 = df[cname].quantile(0.25)\n",
    "    Q3 = df[cname].quantile(0.75)\n",
    "    IQR = stats.iqr(df[cname])\n",
    "    print('The first quartile :',Q1,'for',cname)\n",
    "    print('The third quartile :',Q3,'for',cname)\n",
    "    print('The IQR :', IQR,'for',cname)\n",
    "    \n",
    "    L_outlier = Q1 - 1.5*(Q3 - Q1)  \n",
    "    U_outlier = Q3 + 1.5*(Q3 - Q1)\n",
    "\n",
    "    print('The left outlier :',L_outlier,'for',cname)\n",
    "    print('The Right outlier :',U_outlier,'for',cname)\n",
    "    \n",
    "    print(\"Left Outliers :\",df[df[cname] < L_outlier][cname].count())\n",
    "    print(\"Right Outliers :\",df[df[cname] > U_outlier][cname].count())"
   ]
  },
  {
   "cell_type": "code",
   "execution_count": 64,
   "metadata": {},
   "outputs": [
    {
     "name": "stdout",
     "output_type": "stream",
     "text": [
      "The first quartile : 12.750000000000002 for newspaper\n",
      "The third quartile : 45.1 for newspaper\n",
      "The IQR : 32.35 for newspaper\n",
      "The left outlier : -35.775000000000006 for newspaper\n",
      "The Right outlier : 93.625 for newspaper\n",
      "Left Outliers : 0\n",
      "Right Outliers : 2\n"
     ]
    }
   ],
   "source": [
    "# Outliers in newspaper\n",
    "outliers(\"newspaper\")"
   ]
  },
  {
   "cell_type": "code",
   "execution_count": 65,
   "metadata": {},
   "outputs": [
    {
     "data": {
      "text/plain": [
       "TV          -0.069853\n",
       "radio        0.094175\n",
       "newspaper    0.894720\n",
       "sales        0.407571\n",
       "dtype: float64"
      ]
     },
     "execution_count": 65,
     "metadata": {},
     "output_type": "execute_result"
    }
   ],
   "source": [
    "df.skew()"
   ]
  },
  {
   "cell_type": "code",
   "execution_count": 66,
   "metadata": {},
   "outputs": [],
   "source": [
    "# All the values of skewness are in range of -0.5 to +0.5 except \n",
    "# Newspaper column so we need to correct them"
   ]
  },
  {
   "cell_type": "code",
   "execution_count": 67,
   "metadata": {},
   "outputs": [
    {
     "data": {
      "text/html": [
       "<div>\n",
       "<style scoped>\n",
       "    .dataframe tbody tr th:only-of-type {\n",
       "        vertical-align: middle;\n",
       "    }\n",
       "\n",
       "    .dataframe tbody tr th {\n",
       "        vertical-align: top;\n",
       "    }\n",
       "\n",
       "    .dataframe thead th {\n",
       "        text-align: right;\n",
       "    }\n",
       "</style>\n",
       "<table border=\"1\" class=\"dataframe\">\n",
       "  <thead>\n",
       "    <tr style=\"text-align: right;\">\n",
       "      <th></th>\n",
       "      <th>TV</th>\n",
       "      <th>radio</th>\n",
       "      <th>newspaper</th>\n",
       "      <th>sales</th>\n",
       "    </tr>\n",
       "  </thead>\n",
       "  <tbody>\n",
       "    <tr>\n",
       "      <th>0</th>\n",
       "      <td>230.1</td>\n",
       "      <td>37.8</td>\n",
       "      <td>69.2</td>\n",
       "      <td>22.1</td>\n",
       "    </tr>\n",
       "    <tr>\n",
       "      <th>1</th>\n",
       "      <td>44.5</td>\n",
       "      <td>39.3</td>\n",
       "      <td>45.1</td>\n",
       "      <td>10.4</td>\n",
       "    </tr>\n",
       "    <tr>\n",
       "      <th>2</th>\n",
       "      <td>17.2</td>\n",
       "      <td>45.9</td>\n",
       "      <td>69.3</td>\n",
       "      <td>9.3</td>\n",
       "    </tr>\n",
       "    <tr>\n",
       "      <th>3</th>\n",
       "      <td>151.5</td>\n",
       "      <td>41.3</td>\n",
       "      <td>58.5</td>\n",
       "      <td>18.5</td>\n",
       "    </tr>\n",
       "    <tr>\n",
       "      <th>4</th>\n",
       "      <td>180.8</td>\n",
       "      <td>10.8</td>\n",
       "      <td>58.4</td>\n",
       "      <td>12.9</td>\n",
       "    </tr>\n",
       "  </tbody>\n",
       "</table>\n",
       "</div>"
      ],
      "text/plain": [
       "      TV  radio  newspaper  sales\n",
       "0  230.1   37.8       69.2   22.1\n",
       "1   44.5   39.3       45.1   10.4\n",
       "2   17.2   45.9       69.3    9.3\n",
       "3  151.5   41.3       58.5   18.5\n",
       "4  180.8   10.8       58.4   12.9"
      ]
     },
     "execution_count": 67,
     "metadata": {},
     "output_type": "execute_result"
    }
   ],
   "source": [
    "df.head()"
   ]
  },
  {
   "cell_type": "code",
   "execution_count": 68,
   "metadata": {},
   "outputs": [
    {
     "data": {
      "text/plain": [
       "<seaborn.axisgrid.PairGrid at 0x29ebb3724f0>"
      ]
     },
     "execution_count": 68,
     "metadata": {},
     "output_type": "execute_result"
    },
    {
     "data": {
      "image/png": "[encoded data removed]",
      "text/plain": [
       "<Figure size 720x720 with 20 Axes>"
      ]
     },
     "metadata": {},
     "output_type": "display_data"
    }
   ],
   "source": [
    "# Using pair plot to check if the data is Normal or not\n",
    "\n",
    "sns.pairplot(df,x_vars=['TV','radio','newspaper','sales'],y_vars=['TV','radio','newspaper','sales'],diag_kind='kde')"
   ]
  },
  {
   "cell_type": "code",
   "execution_count": 69,
   "metadata": {},
   "outputs": [],
   "source": [
    "from sklearn.preprocessing import PowerTransformer"
   ]
  },
  {
   "cell_type": "code",
   "execution_count": 70,
   "metadata": {},
   "outputs": [
    {
     "data": {
      "text/html": [
       "<div>\n",
       "<style scoped>\n",
       "    .dataframe tbody tr th:only-of-type {\n",
       "        vertical-align: middle;\n",
       "    }\n",
       "\n",
       "    .dataframe tbody tr th {\n",
       "        vertical-align: top;\n",
       "    }\n",
       "\n",
       "    .dataframe thead th {\n",
       "        text-align: right;\n",
       "    }\n",
       "</style>\n",
       "<table border=\"1\" class=\"dataframe\">\n",
       "  <thead>\n",
       "    <tr style=\"text-align: right;\">\n",
       "      <th></th>\n",
       "      <th>TV</th>\n",
       "      <th>radio</th>\n",
       "      <th>newspaper</th>\n",
       "      <th>sales</th>\n",
       "    </tr>\n",
       "  </thead>\n",
       "  <tbody>\n",
       "    <tr>\n",
       "      <th>0</th>\n",
       "      <td>230.1</td>\n",
       "      <td>37.8</td>\n",
       "      <td>69.2</td>\n",
       "      <td>22.1</td>\n",
       "    </tr>\n",
       "    <tr>\n",
       "      <th>1</th>\n",
       "      <td>44.5</td>\n",
       "      <td>39.3</td>\n",
       "      <td>45.1</td>\n",
       "      <td>10.4</td>\n",
       "    </tr>\n",
       "    <tr>\n",
       "      <th>2</th>\n",
       "      <td>17.2</td>\n",
       "      <td>45.9</td>\n",
       "      <td>69.3</td>\n",
       "      <td>9.3</td>\n",
       "    </tr>\n",
       "    <tr>\n",
       "      <th>3</th>\n",
       "      <td>151.5</td>\n",
       "      <td>41.3</td>\n",
       "      <td>58.5</td>\n",
       "      <td>18.5</td>\n",
       "    </tr>\n",
       "    <tr>\n",
       "      <th>4</th>\n",
       "      <td>180.8</td>\n",
       "      <td>10.8</td>\n",
       "      <td>58.4</td>\n",
       "      <td>12.9</td>\n",
       "    </tr>\n",
       "  </tbody>\n",
       "</table>\n",
       "</div>"
      ],
      "text/plain": [
       "      TV  radio  newspaper  sales\n",
       "0  230.1   37.8       69.2   22.1\n",
       "1   44.5   39.3       45.1   10.4\n",
       "2   17.2   45.9       69.3    9.3\n",
       "3  151.5   41.3       58.5   18.5\n",
       "4  180.8   10.8       58.4   12.9"
      ]
     },
     "execution_count": 70,
     "metadata": {},
     "output_type": "execute_result"
    }
   ],
   "source": [
    "df.head()"
   ]
  },
  {
   "cell_type": "code",
   "execution_count": 71,
   "metadata": {},
   "outputs": [],
   "source": [
    "news = df[\"newspaper\"]"
   ]
  },
  {
   "cell_type": "code",
   "execution_count": 72,
   "metadata": {},
   "outputs": [],
   "source": [
    "pt = PowerTransformer(standardize=False)"
   ]
  },
  {
   "cell_type": "code",
   "execution_count": 73,
   "metadata": {},
   "outputs": [],
   "source": [
    "news = news.values"
   ]
  },
  {
   "cell_type": "code",
   "execution_count": 74,
   "metadata": {},
   "outputs": [],
   "source": [
    "news = news.reshape(-1,1)"
   ]
  },
  {
   "cell_type": "code",
   "execution_count": 75,
   "metadata": {},
   "outputs": [],
   "source": [
    "news = pt.fit_transform(news)"
   ]
  },
  {
   "cell_type": "code",
   "execution_count": 76,
   "metadata": {},
   "outputs": [],
   "source": [
    "news = pd.DataFrame(news,columns=[\"newspapa\"])"
   ]
  },
  {
   "cell_type": "code",
   "execution_count": 77,
   "metadata": {},
   "outputs": [],
   "source": [
    "df[\"News\"] = news"
   ]
  },
  {
   "cell_type": "code",
   "execution_count": 78,
   "metadata": {},
   "outputs": [
    {
     "data": {
      "text/html": [
       "<div>\n",
       "<style scoped>\n",
       "    .dataframe tbody tr th:only-of-type {\n",
       "        vertical-align: middle;\n",
       "    }\n",
       "\n",
       "    .dataframe tbody tr th {\n",
       "        vertical-align: top;\n",
       "    }\n",
       "\n",
       "    .dataframe thead th {\n",
       "        text-align: right;\n",
       "    }\n",
       "</style>\n",
       "<table border=\"1\" class=\"dataframe\">\n",
       "  <thead>\n",
       "    <tr style=\"text-align: right;\">\n",
       "      <th></th>\n",
       "      <th>TV</th>\n",
       "      <th>radio</th>\n",
       "      <th>newspaper</th>\n",
       "      <th>sales</th>\n",
       "      <th>News</th>\n",
       "    </tr>\n",
       "  </thead>\n",
       "  <tbody>\n",
       "    <tr>\n",
       "      <th>0</th>\n",
       "      <td>230.1</td>\n",
       "      <td>37.8</td>\n",
       "      <td>69.2</td>\n",
       "      <td>22.1</td>\n",
       "      <td>10.609276</td>\n",
       "    </tr>\n",
       "    <tr>\n",
       "      <th>1</th>\n",
       "      <td>44.5</td>\n",
       "      <td>39.3</td>\n",
       "      <td>45.1</td>\n",
       "      <td>10.4</td>\n",
       "      <td>8.653385</td>\n",
       "    </tr>\n",
       "    <tr>\n",
       "      <th>2</th>\n",
       "      <td>17.2</td>\n",
       "      <td>45.9</td>\n",
       "      <td>69.3</td>\n",
       "      <td>9.3</td>\n",
       "      <td>10.616442</td>\n",
       "    </tr>\n",
       "    <tr>\n",
       "      <th>3</th>\n",
       "      <td>151.5</td>\n",
       "      <td>41.3</td>\n",
       "      <td>58.5</td>\n",
       "      <td>18.5</td>\n",
       "      <td>9.802647</td>\n",
       "    </tr>\n",
       "    <tr>\n",
       "      <th>4</th>\n",
       "      <td>180.8</td>\n",
       "      <td>10.8</td>\n",
       "      <td>58.4</td>\n",
       "      <td>12.9</td>\n",
       "      <td>9.794700</td>\n",
       "    </tr>\n",
       "  </tbody>\n",
       "</table>\n",
       "</div>"
      ],
      "text/plain": [
       "      TV  radio  newspaper  sales       News\n",
       "0  230.1   37.8       69.2   22.1  10.609276\n",
       "1   44.5   39.3       45.1   10.4   8.653385\n",
       "2   17.2   45.9       69.3    9.3  10.616442\n",
       "3  151.5   41.3       58.5   18.5   9.802647\n",
       "4  180.8   10.8       58.4   12.9   9.794700"
      ]
     },
     "execution_count": 78,
     "metadata": {},
     "output_type": "execute_result"
    }
   ],
   "source": [
    "df.head()"
   ]
  },
  {
   "cell_type": "code",
   "execution_count": 79,
   "metadata": {},
   "outputs": [],
   "source": [
    "df = df.drop(\"newspaper\",axis=1)"
   ]
  },
  {
   "cell_type": "code",
   "execution_count": 80,
   "metadata": {},
   "outputs": [
    {
     "data": {
      "text/html": [
       "<div>\n",
       "<style scoped>\n",
       "    .dataframe tbody tr th:only-of-type {\n",
       "        vertical-align: middle;\n",
       "    }\n",
       "\n",
       "    .dataframe tbody tr th {\n",
       "        vertical-align: top;\n",
       "    }\n",
       "\n",
       "    .dataframe thead th {\n",
       "        text-align: right;\n",
       "    }\n",
       "</style>\n",
       "<table border=\"1\" class=\"dataframe\">\n",
       "  <thead>\n",
       "    <tr style=\"text-align: right;\">\n",
       "      <th></th>\n",
       "      <th>TV</th>\n",
       "      <th>radio</th>\n",
       "      <th>sales</th>\n",
       "      <th>News</th>\n",
       "    </tr>\n",
       "  </thead>\n",
       "  <tbody>\n",
       "    <tr>\n",
       "      <th>0</th>\n",
       "      <td>230.1</td>\n",
       "      <td>37.8</td>\n",
       "      <td>22.1</td>\n",
       "      <td>10.609276</td>\n",
       "    </tr>\n",
       "    <tr>\n",
       "      <th>1</th>\n",
       "      <td>44.5</td>\n",
       "      <td>39.3</td>\n",
       "      <td>10.4</td>\n",
       "      <td>8.653385</td>\n",
       "    </tr>\n",
       "    <tr>\n",
       "      <th>2</th>\n",
       "      <td>17.2</td>\n",
       "      <td>45.9</td>\n",
       "      <td>9.3</td>\n",
       "      <td>10.616442</td>\n",
       "    </tr>\n",
       "    <tr>\n",
       "      <th>3</th>\n",
       "      <td>151.5</td>\n",
       "      <td>41.3</td>\n",
       "      <td>18.5</td>\n",
       "      <td>9.802647</td>\n",
       "    </tr>\n",
       "    <tr>\n",
       "      <th>4</th>\n",
       "      <td>180.8</td>\n",
       "      <td>10.8</td>\n",
       "      <td>12.9</td>\n",
       "      <td>9.794700</td>\n",
       "    </tr>\n",
       "  </tbody>\n",
       "</table>\n",
       "</div>"
      ],
      "text/plain": [
       "      TV  radio  sales       News\n",
       "0  230.1   37.8   22.1  10.609276\n",
       "1   44.5   39.3   10.4   8.653385\n",
       "2   17.2   45.9    9.3  10.616442\n",
       "3  151.5   41.3   18.5   9.802647\n",
       "4  180.8   10.8   12.9   9.794700"
      ]
     },
     "execution_count": 80,
     "metadata": {},
     "output_type": "execute_result"
    }
   ],
   "source": [
    "df.head()"
   ]
  },
  {
   "cell_type": "code",
   "execution_count": 81,
   "metadata": {},
   "outputs": [],
   "source": [
    "df.rename(columns={'News':'newspaper'}, inplace=True)"
   ]
  },
  {
   "cell_type": "code",
   "execution_count": 82,
   "metadata": {},
   "outputs": [
    {
     "data": {
      "text/html": [
       "<div>\n",
       "<style scoped>\n",
       "    .dataframe tbody tr th:only-of-type {\n",
       "        vertical-align: middle;\n",
       "    }\n",
       "\n",
       "    .dataframe tbody tr th {\n",
       "        vertical-align: top;\n",
       "    }\n",
       "\n",
       "    .dataframe thead th {\n",
       "        text-align: right;\n",
       "    }\n",
       "</style>\n",
       "<table border=\"1\" class=\"dataframe\">\n",
       "  <thead>\n",
       "    <tr style=\"text-align: right;\">\n",
       "      <th></th>\n",
       "      <th>TV</th>\n",
       "      <th>radio</th>\n",
       "      <th>sales</th>\n",
       "      <th>newspaper</th>\n",
       "    </tr>\n",
       "  </thead>\n",
       "  <tbody>\n",
       "    <tr>\n",
       "      <th>0</th>\n",
       "      <td>230.1</td>\n",
       "      <td>37.8</td>\n",
       "      <td>22.1</td>\n",
       "      <td>10.609276</td>\n",
       "    </tr>\n",
       "    <tr>\n",
       "      <th>1</th>\n",
       "      <td>44.5</td>\n",
       "      <td>39.3</td>\n",
       "      <td>10.4</td>\n",
       "      <td>8.653385</td>\n",
       "    </tr>\n",
       "    <tr>\n",
       "      <th>2</th>\n",
       "      <td>17.2</td>\n",
       "      <td>45.9</td>\n",
       "      <td>9.3</td>\n",
       "      <td>10.616442</td>\n",
       "    </tr>\n",
       "    <tr>\n",
       "      <th>3</th>\n",
       "      <td>151.5</td>\n",
       "      <td>41.3</td>\n",
       "      <td>18.5</td>\n",
       "      <td>9.802647</td>\n",
       "    </tr>\n",
       "    <tr>\n",
       "      <th>4</th>\n",
       "      <td>180.8</td>\n",
       "      <td>10.8</td>\n",
       "      <td>12.9</td>\n",
       "      <td>9.794700</td>\n",
       "    </tr>\n",
       "  </tbody>\n",
       "</table>\n",
       "</div>"
      ],
      "text/plain": [
       "      TV  radio  sales  newspaper\n",
       "0  230.1   37.8   22.1  10.609276\n",
       "1   44.5   39.3   10.4   8.653385\n",
       "2   17.2   45.9    9.3  10.616442\n",
       "3  151.5   41.3   18.5   9.802647\n",
       "4  180.8   10.8   12.9   9.794700"
      ]
     },
     "execution_count": 82,
     "metadata": {},
     "output_type": "execute_result"
    }
   ],
   "source": [
    "df.head()"
   ]
  },
  {
   "cell_type": "code",
   "execution_count": 83,
   "metadata": {},
   "outputs": [
    {
     "data": {
      "text/plain": [
       "<seaborn.axisgrid.PairGrid at 0x29ebd3f3be0>"
      ]
     },
     "execution_count": 83,
     "metadata": {},
     "output_type": "execute_result"
    },
    {
     "data": {
      "image/png": "[encoded data removed]",
      "text/plain": [
       "<Figure size 720x720 with 20 Axes>"
      ]
     },
     "metadata": {},
     "output_type": "display_data"
    }
   ],
   "source": [
    "# skewness removed in newspaper\n",
    "sns.pairplot(df,x_vars=['TV','radio','newspaper','sales'],y_vars=['TV','radio','newspaper','sales'],diag_kind='kde')"
   ]
  },
  {
   "cell_type": "code",
   "execution_count": 84,
   "metadata": {},
   "outputs": [
    {
     "data": {
      "text/plain": [
       "TV          -0.069853\n",
       "radio        0.094175\n",
       "sales        0.407571\n",
       "newspaper   -0.077942\n",
       "dtype: float64"
      ]
     },
     "execution_count": 84,
     "metadata": {},
     "output_type": "execute_result"
    }
   ],
   "source": [
    "# The skewness has been reduced most of the data is normal\n",
    "df.skew()"
   ]
  },
  {
   "cell_type": "markdown",
   "metadata": {},
   "source": [
    "# Train Test Split"
   ]
  },
  {
   "cell_type": "code",
   "execution_count": 85,
   "metadata": {},
   "outputs": [
    {
     "data": {
      "text/html": [
       "<div>\n",
       "<style scoped>\n",
       "    .dataframe tbody tr th:only-of-type {\n",
       "        vertical-align: middle;\n",
       "    }\n",
       "\n",
       "    .dataframe tbody tr th {\n",
       "        vertical-align: top;\n",
       "    }\n",
       "\n",
       "    .dataframe thead th {\n",
       "        text-align: right;\n",
       "    }\n",
       "</style>\n",
       "<table border=\"1\" class=\"dataframe\">\n",
       "  <thead>\n",
       "    <tr style=\"text-align: right;\">\n",
       "      <th></th>\n",
       "      <th>TV</th>\n",
       "      <th>radio</th>\n",
       "      <th>sales</th>\n",
       "      <th>newspaper</th>\n",
       "    </tr>\n",
       "  </thead>\n",
       "  <tbody>\n",
       "    <tr>\n",
       "      <th>0</th>\n",
       "      <td>230.1</td>\n",
       "      <td>37.8</td>\n",
       "      <td>22.1</td>\n",
       "      <td>10.609276</td>\n",
       "    </tr>\n",
       "    <tr>\n",
       "      <th>1</th>\n",
       "      <td>44.5</td>\n",
       "      <td>39.3</td>\n",
       "      <td>10.4</td>\n",
       "      <td>8.653385</td>\n",
       "    </tr>\n",
       "    <tr>\n",
       "      <th>2</th>\n",
       "      <td>17.2</td>\n",
       "      <td>45.9</td>\n",
       "      <td>9.3</td>\n",
       "      <td>10.616442</td>\n",
       "    </tr>\n",
       "    <tr>\n",
       "      <th>3</th>\n",
       "      <td>151.5</td>\n",
       "      <td>41.3</td>\n",
       "      <td>18.5</td>\n",
       "      <td>9.802647</td>\n",
       "    </tr>\n",
       "    <tr>\n",
       "      <th>4</th>\n",
       "      <td>180.8</td>\n",
       "      <td>10.8</td>\n",
       "      <td>12.9</td>\n",
       "      <td>9.794700</td>\n",
       "    </tr>\n",
       "  </tbody>\n",
       "</table>\n",
       "</div>"
      ],
      "text/plain": [
       "      TV  radio  sales  newspaper\n",
       "0  230.1   37.8   22.1  10.609276\n",
       "1   44.5   39.3   10.4   8.653385\n",
       "2   17.2   45.9    9.3  10.616442\n",
       "3  151.5   41.3   18.5   9.802647\n",
       "4  180.8   10.8   12.9   9.794700"
      ]
     },
     "execution_count": 85,
     "metadata": {},
     "output_type": "execute_result"
    }
   ],
   "source": [
    "df.head()"
   ]
  },
  {
   "cell_type": "code",
   "execution_count": 86,
   "metadata": {},
   "outputs": [],
   "source": [
    "X = df.drop(\"sales\",axis=1)\n",
    "y = df[\"sales\"]"
   ]
  },
  {
   "cell_type": "code",
   "execution_count": 87,
   "metadata": {},
   "outputs": [
    {
     "data": {
      "text/html": [
       "<div>\n",
       "<style scoped>\n",
       "    .dataframe tbody tr th:only-of-type {\n",
       "        vertical-align: middle;\n",
       "    }\n",
       "\n",
       "    .dataframe tbody tr th {\n",
       "        vertical-align: top;\n",
       "    }\n",
       "\n",
       "    .dataframe thead th {\n",
       "        text-align: right;\n",
       "    }\n",
       "</style>\n",
       "<table border=\"1\" class=\"dataframe\">\n",
       "  <thead>\n",
       "    <tr style=\"text-align: right;\">\n",
       "      <th></th>\n",
       "      <th>TV</th>\n",
       "      <th>radio</th>\n",
       "      <th>newspaper</th>\n",
       "    </tr>\n",
       "  </thead>\n",
       "  <tbody>\n",
       "    <tr>\n",
       "      <th>0</th>\n",
       "      <td>230.1</td>\n",
       "      <td>37.8</td>\n",
       "      <td>10.609276</td>\n",
       "    </tr>\n",
       "    <tr>\n",
       "      <th>1</th>\n",
       "      <td>44.5</td>\n",
       "      <td>39.3</td>\n",
       "      <td>8.653385</td>\n",
       "    </tr>\n",
       "    <tr>\n",
       "      <th>2</th>\n",
       "      <td>17.2</td>\n",
       "      <td>45.9</td>\n",
       "      <td>10.616442</td>\n",
       "    </tr>\n",
       "    <tr>\n",
       "      <th>3</th>\n",
       "      <td>151.5</td>\n",
       "      <td>41.3</td>\n",
       "      <td>9.802647</td>\n",
       "    </tr>\n",
       "    <tr>\n",
       "      <th>4</th>\n",
       "      <td>180.8</td>\n",
       "      <td>10.8</td>\n",
       "      <td>9.794700</td>\n",
       "    </tr>\n",
       "  </tbody>\n",
       "</table>\n",
       "</div>"
      ],
      "text/plain": [
       "      TV  radio  newspaper\n",
       "0  230.1   37.8  10.609276\n",
       "1   44.5   39.3   8.653385\n",
       "2   17.2   45.9  10.616442\n",
       "3  151.5   41.3   9.802647\n",
       "4  180.8   10.8   9.794700"
      ]
     },
     "execution_count": 87,
     "metadata": {},
     "output_type": "execute_result"
    }
   ],
   "source": [
    "X.head()"
   ]
  },
  {
   "cell_type": "code",
   "execution_count": 88,
   "metadata": {},
   "outputs": [
    {
     "data": {
      "text/plain": [
       "0    22.1\n",
       "1    10.4\n",
       "2     9.3\n",
       "3    18.5\n",
       "4    12.9\n",
       "Name: sales, dtype: float64"
      ]
     },
     "execution_count": 88,
     "metadata": {},
     "output_type": "execute_result"
    }
   ],
   "source": [
    "y.head()"
   ]
  },
  {
   "cell_type": "code",
   "execution_count": 89,
   "metadata": {},
   "outputs": [],
   "source": [
    "X = X.values\n",
    "y = y.values"
   ]
  },
  {
   "cell_type": "code",
   "execution_count": 90,
   "metadata": {},
   "outputs": [
    {
     "data": {
      "text/plain": [
       "array([[2.30100000e+02, 3.78000000e+01, 1.06092758e+01],\n",
       "       [4.45000000e+01, 3.93000000e+01, 8.65338515e+00],\n",
       "       [1.72000000e+01, 4.59000000e+01, 1.06164415e+01],\n",
       "       [1.51500000e+02, 4.13000000e+01, 9.80264691e+00],\n",
       "       [1.80800000e+02, 1.08000000e+01, 9.79469996e+00],\n",
       "       [8.70000000e+00, 4.89000000e+01, 1.10148749e+01],\n",
       "       [5.75000000e+01, 3.28000000e+01, 6.24319016e+00],\n",
       "       [1.20200000e+02, 1.96000000e+01, 4.26122524e+00],\n",
       "       [8.60000000e+00, 2.10000000e+00, 7.93033093e-01],\n",
       "       [1.99800000e+02, 2.60000000e+00, 5.91682711e+00],\n",
       "       [6.61000000e+01, 5.80000000e+00, 6.33872181e+00],\n",
       "       [2.14700000e+02, 2.40000000e+01, 2.21954444e+00],\n",
       "       [2.38000000e+01, 3.51000000e+01, 1.03691648e+01],\n",
       "       [9.75000000e+01, 7.60000000e+00, 3.22297296e+00],\n",
       "       [2.04100000e+02, 3.29000000e+01, 8.73661959e+00],\n",
       "       [1.95400000e+02, 4.77000000e+01, 9.34417115e+00],\n",
       "       [6.78000000e+01, 3.66000000e+01, 1.33415632e+01],\n",
       "       [2.81400000e+02, 3.96000000e+01, 9.58509864e+00],\n",
       "       [6.92000000e+01, 2.05000000e+01, 5.47390038e+00],\n",
       "       [1.47300000e+02, 2.39000000e+01, 5.59998966e+00],\n",
       "       [2.18400000e+02, 2.77000000e+01, 9.38627395e+00],\n",
       "       [2.37400000e+02, 5.10000000e+00, 6.24319016e+00],\n",
       "       [1.32000000e+01, 1.59000000e+01, 9.06002493e+00],\n",
       "       [2.28300000e+02, 1.69000000e+01, 6.60291925e+00],\n",
       "       [6.23000000e+01, 1.26000000e+01, 5.47390038e+00],\n",
       "       [2.62900000e+02, 3.50000000e+00, 5.66186935e+00],\n",
       "       [1.42900000e+02, 2.93000000e+01, 4.46423064e+00],\n",
       "       [2.40100000e+02, 1.67000000e+01, 6.15994999e+00],\n",
       "       [2.48800000e+02, 2.71000000e+01, 6.15994999e+00],\n",
       "       [7.06000000e+01, 1.60000000e+01, 8.24112666e+00],\n",
       "       [2.92900000e+02, 2.83000000e+01, 8.47429954e+00],\n",
       "       [1.12900000e+02, 1.74000000e+01, 8.01997738e+00],\n",
       "       [9.72000000e+01, 1.50000000e+00, 7.07348928e+00],\n",
       "       [2.65600000e+02, 2.00000000e+01, 2.75892227e-01],\n",
       "       [9.57000000e+01, 1.40000000e+00, 3.27683745e+00],\n",
       "       [2.90700000e+02, 4.10000000e+00, 3.55973611e+00],\n",
       "       [2.66900000e+02, 4.38000000e+01, 2.56760160e+00],\n",
       "       [7.47000000e+01, 4.94000000e+01, 8.70898543e+00],\n",
       "       [4.31000000e+01, 2.67000000e+01, 7.65186716e+00],\n",
       "       [2.28000000e+02, 3.77000000e+01, 7.30686519e+00],\n",
       "       [2.02500000e+02, 2.23000000e+01, 7.26090625e+00],\n",
       "       [1.77000000e+02, 3.34000000e+01, 8.03019257e+00],\n",
       "       [2.93600000e+02, 2.77000000e+01, 1.26016301e+00],\n",
       "       [2.06900000e+02, 8.40000000e+00, 6.62866771e+00],\n",
       "       [2.51000000e+01, 2.57000000e+01, 8.48384278e+00],\n",
       "       [1.75100000e+02, 2.25000000e+01, 7.24936196e+00],\n",
       "       [8.97000000e+01, 9.90000000e+00, 7.71649607e+00],\n",
       "       [2.39900000e+02, 4.15000000e+01, 5.50572194e+00],\n",
       "       [2.27200000e+02, 1.58000000e+01, 9.08632271e+00],\n",
       "       [6.69000000e+01, 1.17000000e+01, 7.83330196e+00],\n",
       "       [1.99800000e+02, 3.10000000e+00, 7.59749919e+00],\n",
       "       [1.00400000e+02, 9.60000000e+00, 2.06822884e+00],\n",
       "       [2.16400000e+02, 4.17000000e+01, 8.12141976e+00],\n",
       "       [1.82600000e+02, 4.62000000e+01, 9.81851600e+00],\n",
       "       [2.62700000e+02, 2.88000000e+01, 5.07497265e+00],\n",
       "       [1.98900000e+02, 4.94000000e+01, 9.92087051e+00],\n",
       "       [7.30000000e+00, 2.81000000e+01, 8.30018208e+00],\n",
       "       [1.36200000e+02, 1.92000000e+01, 5.19476810e+00],\n",
       "       [2.10800000e+02, 4.96000000e+01, 7.92731253e+00],\n",
       "       [2.10700000e+02, 2.95000000e+01, 3.75293863e+00],\n",
       "       [5.35000000e+01, 2.00000000e+00, 5.94601582e+00],\n",
       "       [2.61300000e+02, 4.27000000e+01, 9.49463048e+00],\n",
       "       [2.39300000e+02, 1.55000000e+01, 6.74311670e+00],\n",
       "       [1.02700000e+02, 2.96000000e+01, 3.53488589e+00],\n",
       "       [1.31100000e+02, 4.28000000e+01, 6.94113495e+00],\n",
       "       [6.90000000e+01, 9.30000000e+00, 7.26924965e-01],\n",
       "       [3.15000000e+01, 2.46000000e+01, 1.46275177e+00],\n",
       "       [1.39300000e+02, 1.45000000e+01, 3.95947576e+00],\n",
       "       [2.37400000e+02, 2.75000000e+01, 4.13458827e+00],\n",
       "       [2.16800000e+02, 4.39000000e+01, 6.73051261e+00],\n",
       "       [1.99100000e+02, 3.06000000e+01, 8.03019257e+00],\n",
       "       [1.09800000e+02, 1.43000000e+01, 7.27242861e+00],\n",
       "       [2.68000000e+01, 3.30000000e+01, 5.63102399e+00],\n",
       "       [1.29400000e+02, 5.70000000e+00, 7.22620714e+00],\n",
       "       [2.13400000e+02, 2.46000000e+01, 4.56227149e+00],\n",
       "       [1.69000000e+01, 4.37000000e+01, 1.19451700e+01],\n",
       "       [2.75000000e+01, 1.60000000e+00, 5.84313484e+00],\n",
       "       [1.20500000e+02, 2.85000000e+01, 4.77062005e+00],\n",
       "       [5.40000000e+00, 2.99000000e+01, 3.77642622e+00],\n",
       "       [1.16000000e+02, 7.70000000e+00, 6.18783918e+00],\n",
       "       [7.64000000e+01, 2.67000000e+01, 6.07540409e+00],\n",
       "       [2.39800000e+02, 4.10000000e+00, 7.84381563e+00],\n",
       "       [7.53000000e+01, 2.03000000e+01, 7.36383082e+00],\n",
       "       [6.84000000e+01, 4.45000000e+01, 7.70577031e+00],\n",
       "       [2.13500000e+02, 4.30000000e+01, 7.50951696e+00],\n",
       "       [1.93200000e+02, 1.84000000e+01, 1.03543789e+01],\n",
       "       [7.63000000e+01, 2.75000000e+01, 5.09227226e+00],\n",
       "       [1.10700000e+02, 4.06000000e+01, 1.01671896e+01],\n",
       "       [8.83000000e+01, 2.55000000e+01, 1.09049597e+01],\n",
       "       [1.09800000e+02, 4.78000000e+01, 9.21639100e+00],\n",
       "       [1.34300000e+02, 4.90000000e+00, 3.75293863e+00],\n",
       "       [2.86000000e+01, 1.50000000e+00, 7.42027180e+00],\n",
       "       [2.17700000e+02, 3.35000000e+01, 9.84225797e+00],\n",
       "       [2.50900000e+02, 3.65000000e+01, 1.08285404e+01],\n",
       "       [1.07400000e+02, 1.40000000e+01, 4.11310308e+00],\n",
       "       [1.63300000e+02, 3.16000000e+01, 9.34417115e+00],\n",
       "       [1.97600000e+02, 3.50000000e+00, 2.85122990e+00],\n",
       "       [1.84900000e+02, 2.10000000e+01, 6.03262447e+00],\n",
       "       [2.89700000e+02, 4.23000000e+01, 9.19918309e+00],\n",
       "       [1.35200000e+02, 4.17000000e+01, 8.72742039e+00],\n",
       "       [2.22400000e+02, 4.30000000e+00, 9.07756749e+00],\n",
       "       [2.96400000e+02, 3.63000000e+01, 1.26239431e+01],\n",
       "       [2.80200000e+02, 1.01000000e+01, 5.94601582e+00],\n",
       "       [1.87900000e+02, 1.72000000e+01, 5.40963853e+00],\n",
       "       [2.38200000e+02, 3.43000000e+01, 2.66490758e+00],\n",
       "       [1.37900000e+02, 4.64000000e+01, 9.84225797e+00],\n",
       "       [2.50000000e+01, 1.10000000e+01, 7.03768531e+00],\n",
       "       [9.04000000e+01, 3.00000000e-01, 6.20173000e+00],\n",
       "       [1.31000000e+01, 4.00000000e-01, 6.52496237e+00],\n",
       "       [2.55400000e+02, 2.69000000e+01, 2.72819180e+00],\n",
       "       [2.25800000e+02, 8.20000000e+00, 9.64210502e+00],\n",
       "       [2.41700000e+02, 3.80000000e+01, 6.20173000e+00],\n",
       "       [1.75700000e+02, 1.54000000e+01, 1.55817829e+00],\n",
       "       [2.09600000e+02, 2.06000000e+01, 4.06979452e+00],\n",
       "       [7.82000000e+01, 4.68000000e+01, 7.58656889e+00],\n",
       "       [7.51000000e+01, 3.50000000e+01, 9.32726225e+00],\n",
       "       [1.39200000e+02, 1.43000000e+01, 6.52496237e+00],\n",
       "       [7.64000000e+01, 8.00000000e-01, 4.88034108e+00],\n",
       "       [1.25700000e+02, 3.69000000e+01, 1.12967419e+01],\n",
       "       [1.94000000e+01, 1.60000000e+01, 6.07540409e+00],\n",
       "       [1.41300000e+02, 2.68000000e+01, 8.75498167e+00],\n",
       "       [1.88000000e+01, 2.17000000e+01, 9.12993968e+00],\n",
       "       [2.24000000e+02, 2.40000000e+00, 5.02268992e+00],\n",
       "       [1.23100000e+02, 3.46000000e+01, 4.42438891e+00],\n",
       "       [2.29500000e+02, 3.23000000e+01, 1.09600985e+01],\n",
       "       [8.72000000e+01, 1.18000000e+01, 6.56407555e+00],\n",
       "       [7.80000000e+00, 3.89000000e+01, 9.14731281e+00],\n",
       "       [8.02000000e+01, 0.00000000e+00, 3.72930925e+00],\n",
       "       [2.20300000e+02, 4.90000000e+01, 1.90851855e+00],\n",
       "       [5.96000000e+01, 1.20000000e+01, 8.46474291e+00],\n",
       "       [7.00000000e-01, 3.96000000e+01, 3.60895437e+00],\n",
       "       [2.65200000e+02, 2.90000000e+00, 8.45517284e+00],\n",
       "       [8.40000000e+00, 2.72000000e+01, 1.41364800e+00],\n",
       "       [2.19800000e+02, 3.35000000e+01, 8.65338515e+00],\n",
       "       [3.69000000e+01, 3.86000000e+01, 1.03469757e+01],\n",
       "       [4.83000000e+01, 4.70000000e+01, 3.55973611e+00],\n",
       "       [2.56000000e+01, 3.90000000e+01, 3.75293863e+00],\n",
       "       [2.73700000e+02, 2.89000000e+01, 9.89737117e+00],\n",
       "       [4.30000000e+01, 2.59000000e+01, 5.81336329e+00],\n",
       "       [1.84900000e+02, 4.39000000e+01, 1.20674583e+00],\n",
       "       [7.34000000e+01, 1.70000000e+01, 4.52331794e+00],\n",
       "       [1.93700000e+02, 3.54000000e+01, 1.10557230e+01],\n",
       "       [2.20500000e+02, 3.32000000e+01, 7.94801924e+00],\n",
       "       [1.04600000e+02, 5.70000000e+00, 7.57561949e+00],\n",
       "       [9.62000000e+01, 1.48000000e+01, 8.05057520e+00],\n",
       "       [1.40300000e+02, 1.90000000e+00, 3.68161604e+00],\n",
       "       [2.40100000e+02, 7.30000000e+00, 3.60895437e+00],\n",
       "       [2.43200000e+02, 4.90000000e+01, 8.57854912e+00],\n",
       "       [3.80000000e+01, 4.03000000e+01, 4.32314420e+00],\n",
       "       [4.47000000e+01, 2.58000000e+01, 5.82827042e+00],\n",
       "       [2.80700000e+02, 1.39000000e+01, 7.85431212e+00],\n",
       "       [1.21000000e+02, 8.40000000e+00, 8.98054681e+00],\n",
       "       [1.97600000e+02, 2.33000000e+01, 4.77062005e+00],\n",
       "       [1.71300000e+02, 3.97000000e+01, 7.92731253e+00],\n",
       "       [1.87800000e+02, 2.11000000e+01, 3.79977423e+00],\n",
       "       [4.10000000e+00, 1.16000000e+01, 2.79028013e+00],\n",
       "       [9.39000000e+01, 4.35000000e+01, 9.13863148e+00],\n",
       "       [1.49800000e+02, 1.30000000e+00, 6.35223432e+00],\n",
       "       [1.17000000e+01, 3.69000000e+01, 8.66268288e+00],\n",
       "       [1.31700000e+02, 1.84000000e+01, 7.59749919e+00],\n",
       "       [1.72500000e+02, 1.81000000e+01, 7.15620479e+00],\n",
       "       [8.57000000e+01, 3.58000000e+01, 9.03363031e+00],\n",
       "       [1.88400000e+02, 1.81000000e+01, 6.52496237e+00],\n",
       "       [1.63500000e+02, 3.68000000e+01, 3.27683745e+00],\n",
       "       [1.17200000e+02, 1.47000000e+01, 2.69670294e+00],\n",
       "       [2.34500000e+02, 3.40000000e+00, 1.16586773e+01],\n",
       "       [1.79000000e+01, 3.76000000e+01, 5.97504343e+00],\n",
       "       [2.06800000e+02, 5.20000000e+00, 5.64647010e+00],\n",
       "       [2.15400000e+02, 2.36000000e+01, 9.73082374e+00],\n",
       "       [2.84300000e+02, 1.06000000e+01, 2.99896142e+00],\n",
       "       [5.00000000e+01, 1.16000000e+01, 5.48983658e+00],\n",
       "       [1.64500000e+02, 2.09000000e+01, 8.86415399e+00],\n",
       "       [1.96000000e+01, 2.01000000e+01, 5.26190043e+00],\n",
       "       [1.68400000e+02, 7.10000000e+00, 4.50371080e+00],\n",
       "       [2.22400000e+02, 3.40000000e+00, 4.56227149e+00],\n",
       "       [2.76900000e+02, 4.89000000e+01, 8.33926507e+00],\n",
       "       [2.48400000e+02, 3.02000000e+01, 5.78341956e+00],\n",
       "       [1.70200000e+02, 7.80000000e+00, 7.66268464e+00],\n",
       "       [2.76700000e+02, 2.30000000e+00, 6.27065570e+00],\n",
       "       [1.65600000e+02, 1.00000000e+01, 5.36088677e+00],\n",
       "       [1.56600000e+02, 2.60000000e+00, 3.50987124e+00],\n",
       "       [2.18500000e+02, 5.40000000e+00, 6.75569321e+00],\n",
       "       [5.62000000e+01, 5.70000000e+00, 7.03768531e+00],\n",
       "       [2.87600000e+02, 4.30000000e+01, 1.07935693e+01],\n",
       "       [2.53800000e+02, 2.13000000e+01, 7.07348928e+00],\n",
       "       [2.05000000e+02, 4.51000000e+01, 5.67722210e+00],\n",
       "       [1.39500000e+02, 2.10000000e+00, 6.65429993e+00],\n",
       "       [1.91100000e+02, 2.87000000e+01, 5.45791291e+00],\n",
       "       [2.86000000e+02, 1.39000000e+01, 2.10679916e+00],\n",
       "       [1.87000000e+01, 1.21000000e+01, 6.22940525e+00],\n",
       "       [3.95000000e+01, 4.11000000e+01, 2.82089393e+00],\n",
       "       [7.55000000e+01, 1.08000000e+01, 2.88129454e+00],\n",
       "       [1.72000000e+01, 4.10000000e+00, 7.26090625e+00],\n",
       "       [1.66800000e+02, 4.20000000e+01, 2.06822884e+00],\n",
       "       [1.49700000e+02, 3.56000000e+01, 2.88129454e+00],\n",
       "       [3.82000000e+01, 3.70000000e+00, 4.69597311e+00],\n",
       "       [9.42000000e+01, 4.90000000e+00, 3.45933710e+00],\n",
       "       [1.77000000e+02, 9.30000000e+00, 2.99896142e+00],\n",
       "       [2.83600000e+02, 4.20000000e+01, 1.03912924e+01],\n",
       "       [2.32100000e+02, 8.60000000e+00, 3.60895437e+00]])"
      ]
     },
     "execution_count": 90,
     "metadata": {},
     "output_type": "execute_result"
    }
   ],
   "source": [
    "X"
   ]
  },
  {
   "cell_type": "code",
   "execution_count": 91,
   "metadata": {},
   "outputs": [
    {
     "data": {
      "text/plain": [
       "array([22.1, 10.4,  9.3, 18.5, 12.9,  7.2, 11.8, 13.2,  4.8, 10.6,  8.6,\n",
       "       17.4,  9.2,  9.7, 19. , 22.4, 12.5, 24.4, 11.3, 14.6, 18. , 12.5,\n",
       "        5.6, 15.5,  9.7, 12. , 15. , 15.9, 18.9, 10.5, 21.4, 11.9,  9.6,\n",
       "       17.4,  9.5, 12.8, 25.4, 14.7, 10.1, 21.5, 16.6, 17.1, 20.7, 12.9,\n",
       "        8.5, 14.9, 10.6, 23.2, 14.8,  9.7, 11.4, 10.7, 22.6, 21.2, 20.2,\n",
       "       23.7,  5.5, 13.2, 23.8, 18.4,  8.1, 24.2, 15.7, 14. , 18. ,  9.3,\n",
       "        9.5, 13.4, 18.9, 22.3, 18.3, 12.4,  8.8, 11. , 17. ,  8.7,  6.9,\n",
       "       14.2,  5.3, 11. , 11.8, 12.3, 11.3, 13.6, 21.7, 15.2, 12. , 16. ,\n",
       "       12.9, 16.7, 11.2,  7.3, 19.4, 22.2, 11.5, 16.9, 11.7, 15.5, 25.4,\n",
       "       17.2, 11.7, 23.8, 14.8, 14.7, 20.7, 19.2,  7.2,  8.7,  5.3, 19.8,\n",
       "       13.4, 21.8, 14.1, 15.9, 14.6, 12.6, 12.2,  9.4, 15.9,  6.6, 15.5,\n",
       "        7. , 11.6, 15.2, 19.7, 10.6,  6.6,  8.8, 24.7,  9.7,  1.6, 12.7,\n",
       "        5.7, 19.6, 10.8, 11.6,  9.5, 20.8,  9.6, 20.7, 10.9, 19.2, 20.1,\n",
       "       10.4, 11.4, 10.3, 13.2, 25.4, 10.9, 10.1, 16.1, 11.6, 16.6, 19. ,\n",
       "       15.6,  3.2, 15.3, 10.1,  7.3, 12.9, 14.4, 13.3, 14.9, 18. , 11.9,\n",
       "       11.9,  8. , 12.2, 17.1, 15. ,  8.4, 14.5,  7.6, 11.7, 11.5, 27. ,\n",
       "       20.2, 11.7, 11.8, 12.6, 10.5, 12.2,  8.7, 26.2, 17.6, 22.6, 10.3,\n",
       "       17.3, 15.9,  6.7, 10.8,  9.9,  5.9, 19.6, 17.3,  7.6,  9.7, 12.8,\n",
       "       25.5, 13.4])"
      ]
     },
     "execution_count": 91,
     "metadata": {},
     "output_type": "execute_result"
    }
   ],
   "source": [
    "y"
   ]
  },
  {
   "cell_type": "code",
   "execution_count": 92,
   "metadata": {},
   "outputs": [],
   "source": [
    "from sklearn.model_selection import train_test_split"
   ]
  },
  {
   "cell_type": "code",
   "execution_count": 93,
   "metadata": {},
   "outputs": [],
   "source": [
    "X_train, X_test, y_train, y_test = train_test_split(X, y, test_size=0.24, random_state=42)"
   ]
  },
  {
   "cell_type": "code",
   "execution_count": 94,
   "metadata": {},
   "outputs": [
    {
     "data": {
      "text/plain": [
       "(152, 3)"
      ]
     },
     "execution_count": 94,
     "metadata": {},
     "output_type": "execute_result"
    }
   ],
   "source": [
    "X_train.shape"
   ]
  },
  {
   "cell_type": "code",
   "execution_count": 95,
   "metadata": {},
   "outputs": [
    {
     "data": {
      "text/plain": [
       "(48, 3)"
      ]
     },
     "execution_count": 95,
     "metadata": {},
     "output_type": "execute_result"
    }
   ],
   "source": [
    "X_test.shape"
   ]
  },
  {
   "cell_type": "code",
   "execution_count": 96,
   "metadata": {},
   "outputs": [
    {
     "data": {
      "text/plain": [
       "(152,)"
      ]
     },
     "execution_count": 96,
     "metadata": {},
     "output_type": "execute_result"
    }
   ],
   "source": [
    "y_train.shape"
   ]
  },
  {
   "cell_type": "code",
   "execution_count": 97,
   "metadata": {},
   "outputs": [
    {
     "data": {
      "text/plain": [
       "(48,)"
      ]
     },
     "execution_count": 97,
     "metadata": {},
     "output_type": "execute_result"
    }
   ],
   "source": [
    "y_test.shape"
   ]
  },
  {
   "cell_type": "markdown",
   "metadata": {},
   "source": [
    "# Machine Learning"
   ]
  },
  {
   "cell_type": "markdown",
   "metadata": {},
   "source": [
    "# Linear regression"
   ]
  },
  {
   "cell_type": "code",
   "execution_count": 98,
   "metadata": {},
   "outputs": [],
   "source": [
    "from sklearn.linear_model import LinearRegression\n",
    "from sklearn.metrics import r2_score"
   ]
  },
  {
   "cell_type": "code",
   "execution_count": 99,
   "metadata": {},
   "outputs": [
    {
     "name": "stdout",
     "output_type": "stream",
     "text": [
      "The training accuracy is : 0.8941039386025401\n",
      "The testing accuracy is : 0.9134355449682807\n",
      "\n",
      "\n"
     ]
    }
   ],
   "source": [
    "X_train, X_test, y_train, y_test = train_test_split(X, y, test_size=24, random_state=42)\n",
    "mod_1 = LinearRegression()\n",
    "mod_1.fit(X_train,y_train)\n",
    "train_score_1 = mod_1.score(X_train,y_train)\n",
    "pred_1 = mod_1.predict(X_test)\n",
    "test_score_1 = r2_score(y_test,pred_1)\n",
    "    \n",
    "print(\"The training accuracy is :\",train_score_1)\n",
    "print(\"The testing accuracy is :\",test_score_1)\n",
    "print(\"\\n\")"
   ]
  },
  {
   "cell_type": "code",
   "execution_count": 100,
   "metadata": {},
   "outputs": [],
   "source": [
    "from sklearn.metrics import mean_squared_error"
   ]
  },
  {
   "cell_type": "code",
   "execution_count": 101,
   "metadata": {},
   "outputs": [
    {
     "name": "stdout",
     "output_type": "stream",
     "text": [
      "2.7831133548951446\n"
     ]
    }
   ],
   "source": [
    "MSE_1 = mean_squared_error(y_test,pred_1)\n",
    "print(MSE_1)"
   ]
  },
  {
   "cell_type": "markdown",
   "metadata": {},
   "source": [
    "# Cross Validation"
   ]
  },
  {
   "cell_type": "code",
   "execution_count": 102,
   "metadata": {},
   "outputs": [],
   "source": [
    "from sklearn.model_selection import cross_val_score\n",
    "from sklearn.model_selection import KFold"
   ]
  },
  {
   "cell_type": "code",
   "execution_count": 103,
   "metadata": {},
   "outputs": [],
   "source": [
    "kfold = KFold(n_splits=10,random_state=24)\n",
    "\n",
    "K_results = cross_val_score(mod_1,X,y,cv=kfold)\n",
    "\n",
    "kfold_accuracy_LR = np.mean(abs(K_results))"
   ]
  },
  {
   "cell_type": "code",
   "execution_count": 104,
   "metadata": {},
   "outputs": [
    {
     "data": {
      "text/plain": [
       "0.8856258076327002"
      ]
     },
     "execution_count": 104,
     "metadata": {},
     "output_type": "execute_result"
    }
   ],
   "source": [
    "kfold_accuracy_LR"
   ]
  },
  {
   "cell_type": "code",
   "execution_count": 105,
   "metadata": {},
   "outputs": [],
   "source": [
    "score = {\"Algorithm\":[\"Linear Regression\"],\n",
    "         \"Training_Acc\":[train_score_1],\n",
    "        \"R2 Score\":[test_score_1],\n",
    "         \"MSE\":[MSE_1],\n",
    "        \"Cross_validation\":[kfold_accuracy_LR]}\n",
    "\n",
    "final_card = pd.DataFrame(score)"
   ]
  },
  {
   "cell_type": "code",
   "execution_count": 106,
   "metadata": {},
   "outputs": [
    {
     "data": {
      "text/html": [
       "<div>\n",
       "<style scoped>\n",
       "    .dataframe tbody tr th:only-of-type {\n",
       "        vertical-align: middle;\n",
       "    }\n",
       "\n",
       "    .dataframe tbody tr th {\n",
       "        vertical-align: top;\n",
       "    }\n",
       "\n",
       "    .dataframe thead th {\n",
       "        text-align: right;\n",
       "    }\n",
       "</style>\n",
       "<table border=\"1\" class=\"dataframe\">\n",
       "  <thead>\n",
       "    <tr style=\"text-align: right;\">\n",
       "      <th></th>\n",
       "      <th>Algorithm</th>\n",
       "      <th>Training_Acc</th>\n",
       "      <th>R2 Score</th>\n",
       "      <th>MSE</th>\n",
       "      <th>Cross_validation</th>\n",
       "    </tr>\n",
       "  </thead>\n",
       "  <tbody>\n",
       "    <tr>\n",
       "      <th>0</th>\n",
       "      <td>Linear Regression</td>\n",
       "      <td>0.894104</td>\n",
       "      <td>0.913436</td>\n",
       "      <td>2.783113</td>\n",
       "      <td>0.885626</td>\n",
       "    </tr>\n",
       "  </tbody>\n",
       "</table>\n",
       "</div>"
      ],
      "text/plain": [
       "           Algorithm  Training_Acc  R2 Score       MSE  Cross_validation\n",
       "0  Linear Regression      0.894104  0.913436  2.783113          0.885626"
      ]
     },
     "execution_count": 106,
     "metadata": {},
     "output_type": "execute_result"
    }
   ],
   "source": [
    "final_card"
   ]
  },
  {
   "cell_type": "code",
   "execution_count": 107,
   "metadata": {},
   "outputs": [],
   "source": [
    "# Linear regression itself is performing very good"
   ]
  },
  {
   "cell_type": "markdown",
   "metadata": {},
   "source": [
    "# Choosing best random state for Linear Regression"
   ]
  },
  {
   "cell_type": "code",
   "execution_count": 108,
   "metadata": {},
   "outputs": [
    {
     "name": "stdout",
     "output_type": "stream",
     "text": [
      "for random state  0  The training accuracy is : 0.910636683058159\n",
      "for random state  0  The testing accuracy is : 0.8058665008874051\n",
      "\n",
      "\n",
      "for random state  1  The training accuracy is : 0.8987863010256325\n",
      "for random state  1  The testing accuracy is : 0.872886227068246\n",
      "\n",
      "\n",
      "for random state  2  The training accuracy is : 0.9053832861049023\n",
      "for random state  2  The testing accuracy is : 0.7770703286694671\n",
      "\n",
      "\n",
      "for random state  3  The training accuracy is : 0.8955935638013222\n",
      "for random state  3  The testing accuracy is : 0.9107024234555994\n",
      "\n",
      "\n",
      "for random state  4  The training accuracy is : 0.8925381948587789\n",
      "for random state  4  The testing accuracy is : 0.9025604436194788\n",
      "\n",
      "\n",
      "for random state  5  The training accuracy is : 0.898085707650555\n",
      "for random state  5  The testing accuracy is : 0.8855583927993138\n",
      "\n",
      "\n",
      "for random state  6  The training accuracy is : 0.8959496312855464\n",
      "for random state  6  The testing accuracy is : 0.9061640368486074\n",
      "\n",
      "\n",
      "for random state  7  The training accuracy is : 0.8974695157500507\n",
      "for random state  7  The testing accuracy is : 0.8605913445675688\n",
      "\n",
      "\n",
      "for random state  8  The training accuracy is : 0.9115927895283674\n",
      "for random state  8  The testing accuracy is : 0.7930215252717524\n",
      "\n",
      "\n",
      "for random state  9  The training accuracy is : 0.8952174751784456\n",
      "for random state  9  The testing accuracy is : 0.9018093241945351\n",
      "\n",
      "\n",
      "for random state  10  The training accuracy is : 0.909152000434243\n",
      "for random state  10  The testing accuracy is : 0.8143175948012309\n",
      "\n",
      "\n",
      "for random state  11  The training accuracy is : 0.9096692977024516\n",
      "for random state  11  The testing accuracy is : 0.8055270908382003\n",
      "\n",
      "\n",
      "for random state  12  The training accuracy is : 0.8924553417721556\n",
      "for random state  12  The testing accuracy is : 0.9290295530726543\n",
      "\n",
      "\n",
      "for random state  13  The training accuracy is : 0.890977469458869\n",
      "for random state  13  The testing accuracy is : 0.9349203009434148\n",
      "\n",
      "\n",
      "for random state  14  The training accuracy is : 0.8912703597063695\n",
      "for random state  14  The testing accuracy is : 0.917585649286556\n",
      "\n",
      "\n",
      "for random state  15  The training accuracy is : 0.891627007005581\n",
      "for random state  15  The testing accuracy is : 0.9284099372040886\n",
      "\n",
      "\n",
      "for random state  16  The training accuracy is : 0.8987106629620791\n",
      "for random state  16  The testing accuracy is : 0.8666056980521017\n",
      "\n",
      "\n",
      "for random state  17  The training accuracy is : 0.8977212210503366\n",
      "for random state  17  The testing accuracy is : 0.887869604552753\n",
      "\n",
      "\n",
      "for random state  18  The training accuracy is : 0.8971195482590016\n",
      "for random state  18  The testing accuracy is : 0.892613149773621\n",
      "\n",
      "\n",
      "for random state  19  The training accuracy is : 0.8996589430791285\n",
      "for random state  19  The testing accuracy is : 0.8386633392493212\n",
      "\n",
      "\n",
      "for random state  20  The training accuracy is : 0.8899000188240132\n",
      "for random state  20  The testing accuracy is : 0.9300955248739\n",
      "\n",
      "\n",
      "for random state  21  The training accuracy is : 0.8866534233682883\n",
      "for random state  21  The testing accuracy is : 0.9388279515674983\n",
      "\n",
      "\n",
      "for random state  22  The training accuracy is : 0.8905634501387889\n",
      "for random state  22  The testing accuracy is : 0.9248839034849492\n",
      "\n",
      "\n",
      "for random state  23  The training accuracy is : 0.8943169940111213\n",
      "for random state  23  The testing accuracy is : 0.9109620913968312\n",
      "\n",
      "\n",
      "for random state  24  The training accuracy is : 0.8959487109067281\n",
      "for random state  24  The testing accuracy is : 0.9057655438462809\n",
      "\n",
      "\n",
      "for random state  25  The training accuracy is : 0.9038308276998568\n",
      "for random state  25  The testing accuracy is : 0.8135393415869847\n",
      "\n",
      "\n",
      "for random state  26  The training accuracy is : 0.8988731796136873\n",
      "for random state  26  The testing accuracy is : 0.8647932743877214\n",
      "\n",
      "\n",
      "for random state  27  The training accuracy is : 0.8963231120359415\n",
      "for random state  27  The testing accuracy is : 0.8919734420540953\n",
      "\n",
      "\n",
      "for random state  28  The training accuracy is : 0.898120325200696\n",
      "for random state  28  The testing accuracy is : 0.8836296050369282\n",
      "\n",
      "\n",
      "for random state  29  The training accuracy is : 0.8835291441287451\n",
      "for random state  29  The testing accuracy is : 0.9349745689422138\n",
      "\n",
      "\n",
      "for random state  30  The training accuracy is : 0.8971094126136159\n",
      "for random state  30  The testing accuracy is : 0.8971351014956105\n",
      "\n",
      "\n",
      "for random state  31  The training accuracy is : 0.8912995730704586\n",
      "for random state  31  The testing accuracy is : 0.929622813197802\n",
      "\n",
      "\n",
      "for random state  32  The training accuracy is : 0.8966400400463842\n",
      "for random state  32  The testing accuracy is : 0.901184724985405\n",
      "\n",
      "\n",
      "for random state  33  The training accuracy is : 0.8938680932127367\n",
      "for random state  33  The testing accuracy is : 0.9212057547413872\n",
      "\n",
      "\n",
      "for random state  34  The training accuracy is : 0.8976386446991538\n",
      "for random state  34  The testing accuracy is : 0.8920929116691327\n",
      "\n",
      "\n",
      "for random state  35  The training accuracy is : 0.9112082855179865\n",
      "for random state  35  The testing accuracy is : 0.7363911032200046\n",
      "\n",
      "\n",
      "for random state  36  The training accuracy is : 0.8860618864950967\n",
      "for random state  36  The testing accuracy is : 0.9433765874754237\n",
      "\n",
      "\n",
      "for random state  37  The training accuracy is : 0.8984323041698039\n",
      "for random state  37  The testing accuracy is : 0.8884396401000818\n",
      "\n",
      "\n",
      "for random state  38  The training accuracy is : 0.8974990277908181\n",
      "for random state  38  The testing accuracy is : 0.8917757518389401\n",
      "\n",
      "\n",
      "for random state  39  The training accuracy is : 0.9034360359986581\n",
      "for random state  39  The testing accuracy is : 0.7953843155729656\n",
      "\n",
      "\n",
      "for random state  40  The training accuracy is : 0.9006231153909281\n",
      "for random state  40  The testing accuracy is : 0.8634458674289319\n",
      "\n",
      "\n",
      "for random state  41  The training accuracy is : 0.9089422607563965\n",
      "for random state  41  The testing accuracy is : 0.7831364465175812\n",
      "\n",
      "\n",
      "for random state  42  The training accuracy is : 0.8941039386025401\n",
      "for random state  42  The testing accuracy is : 0.9134355449682807\n",
      "\n",
      "\n",
      "for random state  43  The training accuracy is : 0.8936643158777124\n",
      "for random state  43  The testing accuracy is : 0.9171080501677962\n",
      "\n",
      "\n",
      "for random state  44  The training accuracy is : 0.8987306210308369\n",
      "for random state  44  The testing accuracy is : 0.8759924997494918\n",
      "\n",
      "\n",
      "for random state  45  The training accuracy is : 0.8985754482676446\n",
      "for random state  45  The testing accuracy is : 0.8770759232626089\n",
      "\n",
      "\n",
      "for random state  46  The training accuracy is : 0.8971272399114809\n",
      "for random state  46  The testing accuracy is : 0.8848725895630315\n",
      "\n",
      "\n",
      "for random state  47  The training accuracy is : 0.9015676468850861\n",
      "for random state  47  The testing accuracy is : 0.855154235709009\n",
      "\n",
      "\n",
      "for random state  48  The training accuracy is : 0.8962812454357126\n",
      "for random state  48  The testing accuracy is : 0.8966856285694824\n",
      "\n",
      "\n",
      "for random state  49  The training accuracy is : 0.8948387705866871\n",
      "for random state  49  The testing accuracy is : 0.9085181583745314\n",
      "\n",
      "\n",
      "for random state  50  The training accuracy is : 0.9003439944334428\n",
      "for random state  50  The testing accuracy is : 0.8372772627615144\n",
      "\n",
      "\n",
      "for random state  51  The training accuracy is : 0.894221160482338\n",
      "for random state  51  The testing accuracy is : 0.9279766166395583\n",
      "\n",
      "\n",
      "for random state  52  The training accuracy is : 0.904471414500495\n",
      "for random state  52  The testing accuracy is : 0.8567912100389226\n",
      "\n",
      "\n",
      "for random state  53  The training accuracy is : 0.892808777915709\n",
      "for random state  53  The testing accuracy is : 0.9281514741599051\n",
      "\n",
      "\n",
      "for random state  54  The training accuracy is : 0.8966549436413026\n",
      "for random state  54  The testing accuracy is : 0.899188657727027\n",
      "\n",
      "\n",
      "for random state  55  The training accuracy is : 0.8934620060709424\n",
      "for random state  55  The testing accuracy is : 0.9228056965600921\n",
      "\n",
      "\n",
      "for random state  56  The training accuracy is : 0.8977004567216657\n",
      "for random state  56  The testing accuracy is : 0.8925328384018798\n",
      "\n",
      "\n",
      "for random state  57  The training accuracy is : 0.8912360942049723\n",
      "for random state  57  The testing accuracy is : 0.9369737345120157\n",
      "\n",
      "\n",
      "for random state  58  The training accuracy is : 0.8972435925304417\n",
      "for random state  58  The testing accuracy is : 0.8928008529398347\n",
      "\n",
      "\n",
      "for random state  59  The training accuracy is : 0.8895676915122444\n",
      "for random state  59  The testing accuracy is : 0.9374004084617681\n",
      "\n",
      "\n",
      "for random state  60  The training accuracy is : 0.8938233510523995\n",
      "for random state  60  The testing accuracy is : 0.9138978766323237\n",
      "\n",
      "\n",
      "for random state  61  The training accuracy is : 0.8981122522980356\n",
      "for random state  61  The testing accuracy is : 0.8805348127620898\n",
      "\n",
      "\n",
      "for random state  62  The training accuracy is : 0.9022821638862638\n",
      "for random state  62  The testing accuracy is : 0.8527426819104632\n",
      "\n",
      "\n",
      "for random state  63  The training accuracy is : 0.8976234631573967\n",
      "for random state  63  The testing accuracy is : 0.8849659569275574\n",
      "\n",
      "\n",
      "for random state  64  The training accuracy is : 0.897299725687815\n",
      "for random state  64  The testing accuracy is : 0.8747269187245191\n",
      "\n",
      "\n",
      "for random state  65  The training accuracy is : 0.9001845966748947\n",
      "for random state  65  The testing accuracy is : 0.8655380182348414\n",
      "\n",
      "\n",
      "for random state  66  The training accuracy is : 0.9025075523473527\n",
      "for random state  66  The testing accuracy is : 0.8638626943246661\n",
      "\n",
      "\n",
      "for random state  67  The training accuracy is : 0.8981526677151481\n",
      "for random state  67  The testing accuracy is : 0.8824411511879382\n",
      "\n",
      "\n",
      "for random state  68  The training accuracy is : 0.8971491553925885\n",
      "for random state  68  The testing accuracy is : 0.8915561523416071\n",
      "\n",
      "\n",
      "for random state  69  The training accuracy is : 0.8938003290883628\n",
      "for random state  69  The testing accuracy is : 0.9133703287618882\n",
      "\n",
      "\n",
      "for random state  70  The training accuracy is : 0.892740247764817\n",
      "for random state  70  The testing accuracy is : 0.903441590503026\n",
      "\n",
      "\n",
      "for random state  71  The training accuracy is : 0.9031949937662784\n",
      "for random state  71  The testing accuracy is : 0.861774767966974\n",
      "\n",
      "\n",
      "for random state  72  The training accuracy is : 0.8923138189639672\n",
      "for random state  72  The testing accuracy is : 0.9257547625010261\n",
      "\n",
      "\n",
      "for random state  73  The training accuracy is : 0.8985530656028569\n",
      "for random state  73  The testing accuracy is : 0.8722470430285816\n",
      "\n",
      "\n"
     ]
    },
    {
     "name": "stdout",
     "output_type": "stream",
     "text": [
      "for random state  74  The training accuracy is : 0.9044589023345193\n",
      "for random state  74  The testing accuracy is : 0.8507042138344447\n",
      "\n",
      "\n",
      "for random state  75  The training accuracy is : 0.8952790703883386\n",
      "for random state  75  The testing accuracy is : 0.9107694243481136\n",
      "\n",
      "\n",
      "for random state  76  The training accuracy is : 0.8996929699230162\n",
      "for random state  76  The testing accuracy is : 0.8290408996382215\n",
      "\n",
      "\n",
      "for random state  77  The training accuracy is : 0.8917079394313021\n",
      "for random state  77  The testing accuracy is : 0.928104707251199\n",
      "\n",
      "\n",
      "for random state  78  The training accuracy is : 0.8924717319352873\n",
      "for random state  78  The testing accuracy is : 0.9261651016549731\n",
      "\n",
      "\n",
      "for random state  79  The training accuracy is : 0.8899835365839917\n",
      "for random state  79  The testing accuracy is : 0.9258502660343146\n",
      "\n",
      "\n",
      "for random state  80  The training accuracy is : 0.9127026276556229\n",
      "for random state  80  The testing accuracy is : 0.7889993022333104\n",
      "\n",
      "\n",
      "for random state  81  The training accuracy is : 0.8905751239782714\n",
      "for random state  81  The testing accuracy is : 0.9433731436453806\n",
      "\n",
      "\n",
      "for random state  82  The training accuracy is : 0.9121233121551108\n",
      "for random state  82  The testing accuracy is : 0.7619449837750573\n",
      "\n",
      "\n",
      "for random state  83  The training accuracy is : 0.8905066994575018\n",
      "for random state  83  The testing accuracy is : 0.9304885581480135\n",
      "\n",
      "\n",
      "for random state  84  The training accuracy is : 0.8945627400128711\n",
      "for random state  84  The testing accuracy is : 0.9162330411246489\n",
      "\n",
      "\n",
      "for random state  85  The training accuracy is : 0.9063126407018344\n",
      "for random state  85  The testing accuracy is : 0.8307780750407406\n",
      "\n",
      "\n",
      "for random state  86  The training accuracy is : 0.8953713285274268\n",
      "for random state  86  The testing accuracy is : 0.9030932458040251\n",
      "\n",
      "\n",
      "for random state  87  The training accuracy is : 0.8965991474014665\n",
      "for random state  87  The testing accuracy is : 0.8246632558323248\n",
      "\n",
      "\n",
      "for random state  88  The training accuracy is : 0.8982652630291321\n",
      "for random state  88  The testing accuracy is : 0.8849151742643392\n",
      "\n",
      "\n",
      "for random state  89  The training accuracy is : 0.9042349894400606\n",
      "for random state  89  The testing accuracy is : 0.8305750970876544\n",
      "\n",
      "\n",
      "for random state  90  The training accuracy is : 0.8971969005365451\n",
      "for random state  90  The testing accuracy is : 0.8960062341874583\n",
      "\n",
      "\n",
      "for random state  91  The training accuracy is : 0.8935851225550958\n",
      "for random state  91  The testing accuracy is : 0.9036294350971589\n",
      "\n",
      "\n",
      "for random state  92  The training accuracy is : 0.8875226695514112\n",
      "for random state  92  The testing accuracy is : 0.9496700349461071\n",
      "\n",
      "\n",
      "for random state  93  The training accuracy is : 0.8917283733584481\n",
      "for random state  93  The testing accuracy is : 0.9282411370908229\n",
      "\n",
      "\n",
      "for random state  94  The training accuracy is : 0.9111004958939977\n",
      "for random state  94  The testing accuracy is : 0.7697111993546828\n",
      "\n",
      "\n",
      "for random state  95  The training accuracy is : 0.900529942965904\n",
      "for random state  95  The testing accuracy is : 0.8475538266644052\n",
      "\n",
      "\n",
      "for random state  96  The training accuracy is : 0.9015543092308899\n",
      "for random state  96  The testing accuracy is : 0.860137979760503\n",
      "\n",
      "\n",
      "for random state  97  The training accuracy is : 0.8922348301721965\n",
      "for random state  97  The testing accuracy is : 0.9122967633869032\n",
      "\n",
      "\n",
      "for random state  98  The training accuracy is : 0.8881075859539842\n",
      "for random state  98  The testing accuracy is : 0.9416051507493944\n",
      "\n",
      "\n",
      "for random state  99  The training accuracy is : 0.8942292221297145\n",
      "for random state  99  The testing accuracy is : 0.9019723941838861\n",
      "\n",
      "\n",
      "for random state  100  The training accuracy is : 0.8929283792494301\n",
      "for random state  100  The testing accuracy is : 0.9236228537933777\n",
      "\n",
      "\n"
     ]
    }
   ],
   "source": [
    "for i in range(0,101):\n",
    "    \n",
    "    X_train, X_test, y_train, y_test = train_test_split(X, y, test_size=24, random_state=i)\n",
    "    mod_lr = LinearRegression()\n",
    "    mod_lr.fit(X_train,y_train)\n",
    "    train_score_lr = mod_lr.score(X_train,y_train)\n",
    "    pred_lr = mod_lr.predict(X_test)\n",
    "    test_score_lr = r2_score(y_test,pred_lr)\n",
    "    \n",
    "    print(\"for random state \",i,\" The training accuracy is :\",train_score_lr)\n",
    "    print(\"for random state \",i,\" The testing accuracy is :\",test_score_lr)\n",
    "    print(\"\\n\")"
   ]
  },
  {
   "cell_type": "markdown",
   "metadata": {},
   "source": [
    "# Taking the best Random State as 9"
   ]
  },
  {
   "cell_type": "code",
   "execution_count": 109,
   "metadata": {},
   "outputs": [
    {
     "name": "stdout",
     "output_type": "stream",
     "text": [
      "The training accuracy is : 0.8952174751784456\n",
      "The testing accuracy is : 0.9018093241945351\n",
      "\n",
      "\n"
     ]
    }
   ],
   "source": [
    "X_train, X_test, y_train, y_test = train_test_split(X, y, test_size=24, random_state=9)\n",
    "mod_lr = LinearRegression()\n",
    "mod_lr.fit(X_train,y_train)\n",
    "train_score_lr = mod_lr.score(X_train,y_train)\n",
    "pred_lr = mod_lr.predict(X_test)\n",
    "test_score_lr = r2_score(y_test,pred_lr)\n",
    "    \n",
    "print(\"The training accuracy is :\",train_score_lr)\n",
    "print(\"The testing accuracy is :\",test_score_lr)\n",
    "print(\"\\n\")"
   ]
  },
  {
   "cell_type": "markdown",
   "metadata": {},
   "source": [
    "# Random Forest Regression"
   ]
  },
  {
   "cell_type": "code",
   "execution_count": 110,
   "metadata": {},
   "outputs": [],
   "source": [
    "from sklearn.ensemble import RandomForestRegressor"
   ]
  },
  {
   "cell_type": "code",
   "execution_count": 111,
   "metadata": {},
   "outputs": [],
   "source": [
    "# Using for loop to find the best random state"
   ]
  },
  {
   "cell_type": "code",
   "execution_count": 112,
   "metadata": {},
   "outputs": [
    {
     "name": "stdout",
     "output_type": "stream",
     "text": [
      "for random state  0  The training accuracy is : 0.9974149339541565\n",
      "for random state  0  The testing accuracy is : 0.9710965842772941\n",
      "\n",
      "\n",
      "for random state  1  The training accuracy is : 0.9968698428500331\n",
      "for random state  1  The testing accuracy is : 0.9669877921616736\n",
      "\n",
      "\n",
      "for random state  2  The training accuracy is : 0.9972670230561038\n",
      "for random state  2  The testing accuracy is : 0.9798771166795452\n",
      "\n",
      "\n",
      "for random state  3  The training accuracy is : 0.9968750724833243\n",
      "for random state  3  The testing accuracy is : 0.9849239468743389\n",
      "\n",
      "\n",
      "for random state  4  The training accuracy is : 0.9967787477600635\n",
      "for random state  4  The testing accuracy is : 0.9678330781081145\n",
      "\n",
      "\n",
      "for random state  5  The training accuracy is : 0.9968942648278325\n",
      "for random state  5  The testing accuracy is : 0.9809123277747999\n",
      "\n",
      "\n",
      "for random state  6  The training accuracy is : 0.997226185315208\n",
      "for random state  6  The testing accuracy is : 0.9782155932051829\n",
      "\n",
      "\n",
      "for random state  7  The training accuracy is : 0.997203325714631\n",
      "for random state  7  The testing accuracy is : 0.9707793127892915\n",
      "\n",
      "\n",
      "for random state  8  The training accuracy is : 0.9974928191416461\n",
      "for random state  8  The testing accuracy is : 0.9688642794941447\n",
      "\n",
      "\n",
      "for random state  9  The training accuracy is : 0.9976683002592498\n",
      "for random state  9  The testing accuracy is : 0.9802611098471925\n",
      "\n",
      "\n",
      "for random state  10  The training accuracy is : 0.9970522855797694\n",
      "for random state  10  The testing accuracy is : 0.973673989336644\n",
      "\n",
      "\n",
      "for random state  11  The training accuracy is : 0.9973282711919453\n",
      "for random state  11  The testing accuracy is : 0.9628055828545855\n",
      "\n",
      "\n",
      "for random state  12  The training accuracy is : 0.9968614039329728\n",
      "for random state  12  The testing accuracy is : 0.9884801123579752\n",
      "\n",
      "\n",
      "for random state  13  The training accuracy is : 0.9966706844016991\n",
      "for random state  13  The testing accuracy is : 0.9824297332864064\n",
      "\n",
      "\n",
      "for random state  14  The training accuracy is : 0.9955392535914827\n",
      "for random state  14  The testing accuracy is : 0.9870813411899837\n",
      "\n",
      "\n",
      "for random state  15  The training accuracy is : 0.9967959295083169\n",
      "for random state  15  The testing accuracy is : 0.979394102262233\n",
      "\n",
      "\n",
      "for random state  16  The training accuracy is : 0.9970499902504082\n",
      "for random state  16  The testing accuracy is : 0.9865981540499742\n",
      "\n",
      "\n",
      "for random state  17  The training accuracy is : 0.9971574725703509\n",
      "for random state  17  The testing accuracy is : 0.9803510834971468\n",
      "\n",
      "\n",
      "for random state  18  The training accuracy is : 0.9969387834165844\n",
      "for random state  18  The testing accuracy is : 0.9777680311735235\n",
      "\n",
      "\n",
      "for random state  19  The training accuracy is : 0.9971112732228339\n",
      "for random state  19  The testing accuracy is : 0.9737844960503652\n",
      "\n",
      "\n",
      "for random state  20  The training accuracy is : 0.9967032742380109\n",
      "for random state  20  The testing accuracy is : 0.9815735921878388\n",
      "\n",
      "\n",
      "for random state  21  The training accuracy is : 0.9970502710401122\n",
      "for random state  21  The testing accuracy is : 0.979660236113305\n",
      "\n",
      "\n",
      "for random state  22  The training accuracy is : 0.9969341034701936\n",
      "for random state  22  The testing accuracy is : 0.9884778722338206\n",
      "\n",
      "\n",
      "for random state  23  The training accuracy is : 0.9964945286773417\n",
      "for random state  23  The testing accuracy is : 0.9885168598184031\n",
      "\n",
      "\n",
      "for random state  24  The training accuracy is : 0.9973619286141732\n",
      "for random state  24  The testing accuracy is : 0.9802552130715826\n",
      "\n",
      "\n",
      "for random state  25  The training accuracy is : 0.997243966620203\n",
      "for random state  25  The testing accuracy is : 0.9807741483893911\n",
      "\n",
      "\n",
      "for random state  26  The training accuracy is : 0.9972552199864055\n",
      "for random state  26  The testing accuracy is : 0.9678742277066432\n",
      "\n",
      "\n",
      "for random state  27  The training accuracy is : 0.9972109970987512\n",
      "for random state  27  The testing accuracy is : 0.9773867716136845\n",
      "\n",
      "\n",
      "for random state  28  The training accuracy is : 0.9967518504007837\n",
      "for random state  28  The testing accuracy is : 0.9889589673485479\n",
      "\n",
      "\n",
      "for random state  29  The training accuracy is : 0.9964981250093398\n",
      "for random state  29  The testing accuracy is : 0.9853213688841147\n",
      "\n",
      "\n",
      "for random state  30  The training accuracy is : 0.997229738168676\n",
      "for random state  30  The testing accuracy is : 0.9819319102962157\n",
      "\n",
      "\n",
      "for random state  31  The training accuracy is : 0.9969724377550196\n",
      "for random state  31  The testing accuracy is : 0.9797661300632128\n",
      "\n",
      "\n",
      "for random state  32  The training accuracy is : 0.9972651865488468\n",
      "for random state  32  The testing accuracy is : 0.9743093738833225\n",
      "\n",
      "\n",
      "for random state  33  The training accuracy is : 0.9965138496911493\n",
      "for random state  33  The testing accuracy is : 0.9901974177738475\n",
      "\n",
      "\n",
      "for random state  34  The training accuracy is : 0.9971418283477732\n",
      "for random state  34  The testing accuracy is : 0.9833209426508522\n",
      "\n",
      "\n",
      "for random state  35  The training accuracy is : 0.9973574096043731\n",
      "for random state  35  The testing accuracy is : 0.9334975025628401\n",
      "\n",
      "\n",
      "for random state  36  The training accuracy is : 0.9960679264090364\n",
      "for random state  36  The testing accuracy is : 0.9895323135113319\n",
      "\n",
      "\n",
      "for random state  37  The training accuracy is : 0.9970392232067344\n",
      "for random state  37  The testing accuracy is : 0.979805715609819\n",
      "\n",
      "\n",
      "for random state  38  The training accuracy is : 0.9971889183691547\n",
      "for random state  38  The testing accuracy is : 0.9851090797140453\n",
      "\n",
      "\n",
      "for random state  39  The training accuracy is : 0.9972739028974787\n",
      "for random state  39  The testing accuracy is : 0.97543586520633\n",
      "\n",
      "\n",
      "for random state  40  The training accuracy is : 0.9966097817539915\n",
      "for random state  40  The testing accuracy is : 0.9770118328673121\n",
      "\n",
      "\n",
      "for random state  41  The training accuracy is : 0.9976138401397165\n",
      "for random state  41  The testing accuracy is : 0.9571483044368322\n",
      "\n",
      "\n",
      "for random state  42  The training accuracy is : 0.9971581999615243\n",
      "for random state  42  The testing accuracy is : 0.9831417509952027\n",
      "\n",
      "\n",
      "for random state  43  The training accuracy is : 0.9964516433184765\n",
      "for random state  43  The testing accuracy is : 0.9852275582408657\n",
      "\n",
      "\n",
      "for random state  44  The training accuracy is : 0.9968167579013105\n",
      "for random state  44  The testing accuracy is : 0.9784369316997958\n",
      "\n",
      "\n",
      "for random state  45  The training accuracy is : 0.9970137601800554\n",
      "for random state  45  The testing accuracy is : 0.9912000846442383\n",
      "\n",
      "\n",
      "for random state  46  The training accuracy is : 0.9967946467584575\n",
      "for random state  46  The testing accuracy is : 0.9792080762619866\n",
      "\n",
      "\n",
      "for random state  47  The training accuracy is : 0.9967131559259358\n",
      "for random state  47  The testing accuracy is : 0.9868616043931165\n",
      "\n",
      "\n",
      "for random state  48  The training accuracy is : 0.9971189392948607\n",
      "for random state  48  The testing accuracy is : 0.9830696362851059\n",
      "\n",
      "\n",
      "for random state  49  The training accuracy is : 0.9969293964854085\n",
      "for random state  49  The testing accuracy is : 0.9845787814561446\n",
      "\n",
      "\n",
      "for random state  50  The training accuracy is : 0.9966826003228649\n",
      "for random state  50  The testing accuracy is : 0.9822334797788767\n",
      "\n",
      "\n",
      "for random state  51  The training accuracy is : 0.9974310340007543\n",
      "for random state  51  The testing accuracy is : 0.971434959150797\n",
      "\n",
      "\n",
      "for random state  52  The training accuracy is : 0.9972008831099195\n",
      "for random state  52  The testing accuracy is : 0.9737397925005248\n",
      "\n",
      "\n",
      "for random state  53  The training accuracy is : 0.9972723661787756\n",
      "for random state  53  The testing accuracy is : 0.9848688570007683\n",
      "\n",
      "\n",
      "for random state  54  The training accuracy is : 0.9970730160677838\n",
      "for random state  54  The testing accuracy is : 0.9753506003119914\n",
      "\n",
      "\n",
      "for random state  55  The training accuracy is : 0.9965953620334119\n",
      "for random state  55  The testing accuracy is : 0.9764555193707004\n",
      "\n",
      "\n",
      "for random state  56  The training accuracy is : 0.9972350802527283\n",
      "for random state  56  The testing accuracy is : 0.9807965409251435\n",
      "\n",
      "\n",
      "for random state  57  The training accuracy is : 0.9969097939014105\n",
      "for random state  57  The testing accuracy is : 0.9834919758119977\n",
      "\n",
      "\n",
      "for random state  58  The training accuracy is : 0.9972613273418969\n",
      "for random state  58  The testing accuracy is : 0.9802472544419218\n",
      "\n",
      "\n",
      "for random state  59  The training accuracy is : 0.997012676354648\n",
      "for random state  59  The testing accuracy is : 0.9896622768346446\n",
      "\n",
      "\n",
      "for random state  60  The training accuracy is : 0.997323212825462\n",
      "for random state  60  The testing accuracy is : 0.9870324755376673\n",
      "\n",
      "\n",
      "for random state  61  The training accuracy is : 0.9971094217067372\n",
      "for random state  61  The testing accuracy is : 0.9800339373421941\n",
      "\n",
      "\n"
     ]
    },
    {
     "name": "stdout",
     "output_type": "stream",
     "text": [
      "for random state  62  The training accuracy is : 0.9971822382415728\n",
      "for random state  62  The testing accuracy is : 0.9864294760151846\n",
      "\n",
      "\n",
      "for random state  63  The training accuracy is : 0.9975073757872216\n",
      "for random state  63  The testing accuracy is : 0.9776399540073486\n",
      "\n",
      "\n",
      "for random state  64  The training accuracy is : 0.9971837163951857\n",
      "for random state  64  The testing accuracy is : 0.9758305229758452\n",
      "\n",
      "\n",
      "for random state  65  The training accuracy is : 0.996810161078311\n",
      "for random state  65  The testing accuracy is : 0.9675320879596364\n",
      "\n",
      "\n",
      "for random state  66  The training accuracy is : 0.9973054436196164\n",
      "for random state  66  The testing accuracy is : 0.9743303057484591\n",
      "\n",
      "\n",
      "for random state  67  The training accuracy is : 0.9971503870736764\n",
      "for random state  67  The testing accuracy is : 0.9877567967792964\n",
      "\n",
      "\n",
      "for random state  68  The training accuracy is : 0.9969552251119704\n",
      "for random state  68  The testing accuracy is : 0.9818351543734255\n",
      "\n",
      "\n",
      "for random state  69  The training accuracy is : 0.9968186106921324\n",
      "for random state  69  The testing accuracy is : 0.9918809667252441\n",
      "\n",
      "\n",
      "for random state  70  The training accuracy is : 0.9967915774536843\n",
      "for random state  70  The testing accuracy is : 0.9808248560709736\n",
      "\n",
      "\n",
      "for random state  71  The training accuracy is : 0.9975533427992856\n",
      "for random state  71  The testing accuracy is : 0.9769853112453596\n",
      "\n",
      "\n",
      "for random state  72  The training accuracy is : 0.9968849663707228\n",
      "for random state  72  The testing accuracy is : 0.9852839855685728\n",
      "\n",
      "\n",
      "for random state  73  The training accuracy is : 0.996861670331686\n",
      "for random state  73  The testing accuracy is : 0.977961812052084\n",
      "\n",
      "\n",
      "for random state  74  The training accuracy is : 0.9975039695926444\n",
      "for random state  74  The testing accuracy is : 0.9723966047703791\n",
      "\n",
      "\n",
      "for random state  75  The training accuracy is : 0.9975394355164857\n",
      "for random state  75  The testing accuracy is : 0.9864000128396818\n",
      "\n",
      "\n",
      "for random state  76  The training accuracy is : 0.9970984321676266\n",
      "for random state  76  The testing accuracy is : 0.971187850366878\n",
      "\n",
      "\n",
      "for random state  77  The training accuracy is : 0.9968084977488341\n",
      "for random state  77  The testing accuracy is : 0.9869705133511733\n",
      "\n",
      "\n",
      "for random state  78  The training accuracy is : 0.9966840701783193\n",
      "for random state  78  The testing accuracy is : 0.9809339556839722\n",
      "\n",
      "\n",
      "for random state  79  The training accuracy is : 0.9970092669608818\n",
      "for random state  79  The testing accuracy is : 0.9875567567631733\n",
      "\n",
      "\n",
      "for random state  80  The training accuracy is : 0.9976061964854555\n",
      "for random state  80  The testing accuracy is : 0.9745122128213528\n",
      "\n",
      "\n",
      "for random state  81  The training accuracy is : 0.9968924816997079\n",
      "for random state  81  The testing accuracy is : 0.9837968736039359\n",
      "\n",
      "\n",
      "for random state  82  The training accuracy is : 0.9976488183174244\n",
      "for random state  82  The testing accuracy is : 0.9472353205248465\n",
      "\n",
      "\n",
      "for random state  83  The training accuracy is : 0.9971242831791989\n",
      "for random state  83  The testing accuracy is : 0.9821193441405426\n",
      "\n",
      "\n",
      "for random state  84  The training accuracy is : 0.9964976778342353\n",
      "for random state  84  The testing accuracy is : 0.9829393310837634\n",
      "\n",
      "\n",
      "for random state  85  The training accuracy is : 0.9974810939820435\n",
      "for random state  85  The testing accuracy is : 0.9634590469629479\n",
      "\n",
      "\n",
      "for random state  86  The training accuracy is : 0.9969923066800036\n",
      "for random state  86  The testing accuracy is : 0.9844084993410934\n",
      "\n",
      "\n",
      "for random state  87  The training accuracy is : 0.9973594156167892\n",
      "for random state  87  The testing accuracy is : 0.984537841939181\n",
      "\n",
      "\n",
      "for random state  88  The training accuracy is : 0.9971479756315484\n",
      "for random state  88  The testing accuracy is : 0.9792973298724045\n",
      "\n",
      "\n",
      "for random state  89  The training accuracy is : 0.9973102536603342\n",
      "for random state  89  The testing accuracy is : 0.9797723041576175\n",
      "\n",
      "\n",
      "for random state  90  The training accuracy is : 0.997269120437361\n",
      "for random state  90  The testing accuracy is : 0.9648931323450098\n",
      "\n",
      "\n",
      "for random state  91  The training accuracy is : 0.9969676785669858\n",
      "for random state  91  The testing accuracy is : 0.9636046384489868\n",
      "\n",
      "\n",
      "for random state  92  The training accuracy is : 0.9970586769904933\n",
      "for random state  92  The testing accuracy is : 0.9833711461074137\n",
      "\n",
      "\n",
      "for random state  93  The training accuracy is : 0.9971807766308431\n",
      "for random state  93  The testing accuracy is : 0.9741412754141061\n",
      "\n",
      "\n",
      "for random state  94  The training accuracy is : 0.9975086344812898\n",
      "for random state  94  The testing accuracy is : 0.9440176374927095\n",
      "\n",
      "\n",
      "for random state  95  The training accuracy is : 0.9964778161136959\n",
      "for random state  95  The testing accuracy is : 0.9692737179323796\n",
      "\n",
      "\n",
      "for random state  96  The training accuracy is : 0.9969171746358476\n",
      "for random state  96  The testing accuracy is : 0.9796005867465111\n",
      "\n",
      "\n",
      "for random state  97  The training accuracy is : 0.9965375804921516\n",
      "for random state  97  The testing accuracy is : 0.9806865385603927\n",
      "\n",
      "\n",
      "for random state  98  The training accuracy is : 0.9967572862281231\n",
      "for random state  98  The testing accuracy is : 0.9824177001922655\n",
      "\n",
      "\n",
      "for random state  99  The training accuracy is : 0.9966519140367631\n",
      "for random state  99  The testing accuracy is : 0.9835832548229203\n",
      "\n",
      "\n",
      "for random state  100  The training accuracy is : 0.9971402564392068\n",
      "for random state  100  The testing accuracy is : 0.9874406684380387\n",
      "\n",
      "\n"
     ]
    }
   ],
   "source": [
    "for i in range(0,101):\n",
    "    \n",
    "    X_train, X_test, y_train, y_test = train_test_split(X, y, test_size=24, random_state=i)\n",
    "    mod_2 = RandomForestRegressor() \n",
    "    mod_2.fit(X_train,y_train)\n",
    "    train_score_2 = mod_2.score(X_train,y_train)\n",
    "    pred_2 = mod_2.predict(X_test)\n",
    "    test_score_2 = r2_score(y_test,pred_2)\n",
    "    \n",
    "    print(\"for random state \",i,\" The training accuracy is :\",train_score_2)\n",
    "    print(\"for random state \",i,\" The testing accuracy is :\",test_score_2)\n",
    "    print(\"\\n\")"
   ]
  },
  {
   "cell_type": "code",
   "execution_count": 113,
   "metadata": {},
   "outputs": [],
   "source": [
    "# Taking Random state --> 12 "
   ]
  },
  {
   "cell_type": "code",
   "execution_count": 114,
   "metadata": {},
   "outputs": [
    {
     "name": "stdout",
     "output_type": "stream",
     "text": [
      "The training accuracy is : 0.9968485841578321\n",
      "The testing accuracy is : 0.9891648947162126\n",
      "\n",
      "\n"
     ]
    }
   ],
   "source": [
    "X_train, X_test, y_train, y_test = train_test_split(X, y, test_size=24, random_state=12)\n",
    "mod_2 = RandomForestRegressor() \n",
    "mod_2.fit(X_train,y_train)\n",
    "train_score_2 = mod_2.score(X_train,y_train)\n",
    "pred_2 = mod_2.predict(X_test)\n",
    "test_score_2 = r2_score(y_test,pred_2)\n",
    "    \n",
    "print(\"The training accuracy is :\",train_score_2)\n",
    "print(\"The testing accuracy is :\",test_score_2)\n",
    "print(\"\\n\")"
   ]
  },
  {
   "cell_type": "code",
   "execution_count": 115,
   "metadata": {},
   "outputs": [
    {
     "name": "stdout",
     "output_type": "stream",
     "text": [
      "0.30858812500000043\n"
     ]
    }
   ],
   "source": [
    "MSE_2 = mean_squared_error(y_test,pred_2)\n",
    "print(MSE_2)"
   ]
  },
  {
   "cell_type": "markdown",
   "metadata": {},
   "source": [
    "# Cross Validation"
   ]
  },
  {
   "cell_type": "code",
   "execution_count": 116,
   "metadata": {},
   "outputs": [],
   "source": [
    "kfold = KFold(n_splits=10,random_state=24)\n",
    "\n",
    "K_results = cross_val_score(mod_2,X,y,cv=kfold)\n",
    "\n",
    "kfold_accuracy_RFR = np.mean(abs(K_results))"
   ]
  },
  {
   "cell_type": "code",
   "execution_count": 117,
   "metadata": {},
   "outputs": [
    {
     "data": {
      "text/plain": [
       "0.9788905590087318"
      ]
     },
     "execution_count": 117,
     "metadata": {},
     "output_type": "execute_result"
    }
   ],
   "source": [
    "kfold_accuracy_RFR"
   ]
  },
  {
   "cell_type": "code",
   "execution_count": 118,
   "metadata": {},
   "outputs": [],
   "source": [
    "\n",
    "score = {\"Algorithm\":[\"Linear Regression\",\"Random Forest Regression\"],\n",
    "         \"Training_Acc\":[train_score_1,train_score_2],\n",
    "        \"R2 Score\":[test_score_1,test_score_2],\n",
    "         \"MSE\":[MSE_1,MSE_2],\n",
    "        \"Cross_validation\":[kfold_accuracy_LR,kfold_accuracy_RFR]}\n",
    "\n",
    "final_card = pd.DataFrame(score)"
   ]
  },
  {
   "cell_type": "code",
   "execution_count": 119,
   "metadata": {},
   "outputs": [
    {
     "data": {
      "text/html": [
       "<div>\n",
       "<style scoped>\n",
       "    .dataframe tbody tr th:only-of-type {\n",
       "        vertical-align: middle;\n",
       "    }\n",
       "\n",
       "    .dataframe tbody tr th {\n",
       "        vertical-align: top;\n",
       "    }\n",
       "\n",
       "    .dataframe thead th {\n",
       "        text-align: right;\n",
       "    }\n",
       "</style>\n",
       "<table border=\"1\" class=\"dataframe\">\n",
       "  <thead>\n",
       "    <tr style=\"text-align: right;\">\n",
       "      <th></th>\n",
       "      <th>Algorithm</th>\n",
       "      <th>Training_Acc</th>\n",
       "      <th>R2 Score</th>\n",
       "      <th>MSE</th>\n",
       "      <th>Cross_validation</th>\n",
       "    </tr>\n",
       "  </thead>\n",
       "  <tbody>\n",
       "    <tr>\n",
       "      <th>0</th>\n",
       "      <td>Linear Regression</td>\n",
       "      <td>0.894104</td>\n",
       "      <td>0.913436</td>\n",
       "      <td>2.783113</td>\n",
       "      <td>0.885626</td>\n",
       "    </tr>\n",
       "    <tr>\n",
       "      <th>1</th>\n",
       "      <td>Random Forest Regression</td>\n",
       "      <td>0.996849</td>\n",
       "      <td>0.989165</td>\n",
       "      <td>0.308588</td>\n",
       "      <td>0.978891</td>\n",
       "    </tr>\n",
       "  </tbody>\n",
       "</table>\n",
       "</div>"
      ],
      "text/plain": [
       "                  Algorithm  Training_Acc  R2 Score       MSE  \\\n",
       "0         Linear Regression      0.894104  0.913436  2.783113   \n",
       "1  Random Forest Regression      0.996849  0.989165  0.308588   \n",
       "\n",
       "   Cross_validation  \n",
       "0          0.885626  \n",
       "1          0.978891  "
      ]
     },
     "execution_count": 119,
     "metadata": {},
     "output_type": "execute_result"
    }
   ],
   "source": [
    "final_card"
   ]
  },
  {
   "cell_type": "markdown",
   "metadata": {},
   "source": [
    "# SVR"
   ]
  },
  {
   "cell_type": "code",
   "execution_count": 120,
   "metadata": {},
   "outputs": [],
   "source": [
    "from sklearn.svm import SVR"
   ]
  },
  {
   "cell_type": "code",
   "execution_count": 121,
   "metadata": {},
   "outputs": [
    {
     "name": "stdout",
     "output_type": "stream",
     "text": [
      "for random state  0  The training accuracy is : 0.8725550585016351\n",
      "for random state  0  The testing accuracy is : 0.7891539150793888\n",
      "\n",
      "\n",
      "for random state  1  The training accuracy is : 0.8781525061088706\n",
      "for random state  1  The testing accuracy is : 0.8332431088301991\n",
      "\n",
      "\n",
      "for random state  2  The training accuracy is : 0.8757361593535247\n",
      "for random state  2  The testing accuracy is : 0.8126550877426866\n",
      "\n",
      "\n",
      "for random state  3  The training accuracy is : 0.8646906064489485\n",
      "for random state  3  The testing accuracy is : 0.8148124505770266\n",
      "\n",
      "\n",
      "for random state  4  The training accuracy is : 0.8728532734542909\n",
      "for random state  4  The testing accuracy is : 0.7957220002032631\n",
      "\n",
      "\n",
      "for random state  5  The training accuracy is : 0.8664233136528715\n",
      "for random state  5  The testing accuracy is : 0.8674062530382071\n",
      "\n",
      "\n",
      "for random state  6  The training accuracy is : 0.860427507690114\n",
      "for random state  6  The testing accuracy is : 0.8729818575218812\n",
      "\n",
      "\n",
      "for random state  7  The training accuracy is : 0.8673667890830643\n",
      "for random state  7  The testing accuracy is : 0.8664071844591568\n",
      "\n",
      "\n",
      "for random state  8  The training accuracy is : 0.8774145058948395\n",
      "for random state  8  The testing accuracy is : 0.834425628167617\n",
      "\n",
      "\n",
      "for random state  9  The training accuracy is : 0.8588076270165608\n",
      "for random state  9  The testing accuracy is : 0.8261933777462304\n",
      "\n",
      "\n",
      "for random state  10  The training accuracy is : 0.8488254345820697\n",
      "for random state  10  The testing accuracy is : 0.7639417242039092\n",
      "\n",
      "\n",
      "for random state  11  The training accuracy is : 0.8603166337665592\n",
      "for random state  11  The testing accuracy is : 0.8537637724892375\n",
      "\n",
      "\n",
      "for random state  12  The training accuracy is : 0.8635108066547776\n",
      "for random state  12  The testing accuracy is : 0.8389755712069604\n",
      "\n",
      "\n",
      "for random state  13  The training accuracy is : 0.8625463620864968\n",
      "for random state  13  The testing accuracy is : 0.8512881412473023\n",
      "\n",
      "\n",
      "for random state  14  The training accuracy is : 0.8510902014732515\n",
      "for random state  14  The testing accuracy is : 0.8455603690757101\n",
      "\n",
      "\n",
      "for random state  15  The training accuracy is : 0.8658713826439877\n",
      "for random state  15  The testing accuracy is : 0.8688283447310212\n",
      "\n",
      "\n",
      "for random state  16  The training accuracy is : 0.8627626361531442\n",
      "for random state  16  The testing accuracy is : 0.8466661834514577\n",
      "\n",
      "\n",
      "for random state  17  The training accuracy is : 0.8560610448734937\n",
      "for random state  17  The testing accuracy is : 0.8958240156392845\n",
      "\n",
      "\n",
      "for random state  18  The training accuracy is : 0.8708639416030379\n",
      "for random state  18  The testing accuracy is : 0.8832241373508971\n",
      "\n",
      "\n",
      "for random state  19  The training accuracy is : 0.8698397571628496\n",
      "for random state  19  The testing accuracy is : 0.891602242182651\n",
      "\n",
      "\n",
      "for random state  20  The training accuracy is : 0.8616924885105074\n",
      "for random state  20  The testing accuracy is : 0.8591126375789139\n",
      "\n",
      "\n",
      "for random state  21  The training accuracy is : 0.8612364241887295\n",
      "for random state  21  The testing accuracy is : 0.7515468408076443\n",
      "\n",
      "\n",
      "for random state  22  The training accuracy is : 0.8497176486111304\n",
      "for random state  22  The testing accuracy is : 0.8642058739595214\n",
      "\n",
      "\n",
      "for random state  23  The training accuracy is : 0.8658832849473073\n",
      "for random state  23  The testing accuracy is : 0.8201687121973347\n",
      "\n",
      "\n",
      "for random state  24  The training accuracy is : 0.8647972152471013\n",
      "for random state  24  The testing accuracy is : 0.8760284241469123\n",
      "\n",
      "\n",
      "for random state  25  The training accuracy is : 0.8773363072828625\n",
      "for random state  25  The testing accuracy is : 0.7967840895050242\n",
      "\n",
      "\n",
      "for random state  26  The training accuracy is : 0.8682161268686477\n",
      "for random state  26  The testing accuracy is : 0.8250073564216411\n",
      "\n",
      "\n",
      "for random state  27  The training accuracy is : 0.8659264699565998\n",
      "for random state  27  The testing accuracy is : 0.8080633743035684\n",
      "\n",
      "\n",
      "for random state  28  The training accuracy is : 0.8631569374229423\n",
      "for random state  28  The testing accuracy is : 0.8458176345379861\n",
      "\n",
      "\n",
      "for random state  29  The training accuracy is : 0.8579884364174946\n",
      "for random state  29  The testing accuracy is : 0.7417396775136045\n",
      "\n",
      "\n",
      "for random state  30  The training accuracy is : 0.8661887018294976\n",
      "for random state  30  The testing accuracy is : 0.8637108382600098\n",
      "\n",
      "\n",
      "for random state  31  The training accuracy is : 0.8616226025003517\n",
      "for random state  31  The testing accuracy is : 0.8635868567370306\n",
      "\n",
      "\n",
      "for random state  32  The training accuracy is : 0.864616823297347\n",
      "for random state  32  The testing accuracy is : 0.8253816367251288\n",
      "\n",
      "\n",
      "for random state  33  The training accuracy is : 0.8605821531696951\n",
      "for random state  33  The testing accuracy is : 0.8716983609761496\n",
      "\n",
      "\n",
      "for random state  34  The training accuracy is : 0.8645739593647047\n",
      "for random state  34  The testing accuracy is : 0.9025041850010648\n",
      "\n",
      "\n",
      "for random state  35  The training accuracy is : 0.8727434427677979\n",
      "for random state  35  The testing accuracy is : 0.8408216827527834\n",
      "\n",
      "\n",
      "for random state  36  The training accuracy is : 0.8480289567931534\n",
      "for random state  36  The testing accuracy is : 0.8671536473082441\n",
      "\n",
      "\n",
      "for random state  37  The training accuracy is : 0.8677668965717985\n",
      "for random state  37  The testing accuracy is : 0.8416690316547955\n",
      "\n",
      "\n",
      "for random state  38  The training accuracy is : 0.8638891234734215\n",
      "for random state  38  The testing accuracy is : 0.8785392881598647\n",
      "\n",
      "\n",
      "for random state  39  The training accuracy is : 0.8635081606160717\n",
      "for random state  39  The testing accuracy is : 0.8639461544850436\n",
      "\n",
      "\n",
      "for random state  40  The training accuracy is : 0.8636044461547636\n",
      "for random state  40  The testing accuracy is : 0.829786344012243\n",
      "\n",
      "\n",
      "for random state  41  The training accuracy is : 0.8644230579241476\n",
      "for random state  41  The testing accuracy is : 0.8469605322715759\n",
      "\n",
      "\n",
      "for random state  42  The training accuracy is : 0.8534036103802911\n",
      "for random state  42  The testing accuracy is : 0.8745771805146978\n",
      "\n",
      "\n",
      "for random state  43  The training accuracy is : 0.8641709113139084\n",
      "for random state  43  The testing accuracy is : 0.8347000235992805\n",
      "\n",
      "\n",
      "for random state  44  The training accuracy is : 0.8576468104411927\n",
      "for random state  44  The testing accuracy is : 0.8518536574598153\n",
      "\n",
      "\n",
      "for random state  45  The training accuracy is : 0.873086332974257\n",
      "for random state  45  The testing accuracy is : 0.8500523757662417\n",
      "\n",
      "\n",
      "for random state  46  The training accuracy is : 0.8658642178467015\n",
      "for random state  46  The testing accuracy is : 0.8370644695187424\n",
      "\n",
      "\n",
      "for random state  47  The training accuracy is : 0.8649010504951684\n",
      "for random state  47  The testing accuracy is : 0.8642163962236609\n",
      "\n",
      "\n",
      "for random state  48  The training accuracy is : 0.8672224083355404\n",
      "for random state  48  The testing accuracy is : 0.8591351513477233\n",
      "\n",
      "\n",
      "for random state  49  The training accuracy is : 0.8619403511931519\n",
      "for random state  49  The testing accuracy is : 0.9019710807591397\n",
      "\n",
      "\n",
      "for random state  50  The training accuracy is : 0.8718894164204082\n",
      "for random state  50  The testing accuracy is : 0.7528631828021037\n",
      "\n",
      "\n",
      "for random state  51  The training accuracy is : 0.8617685030929858\n",
      "for random state  51  The testing accuracy is : 0.8617844752345782\n",
      "\n",
      "\n",
      "for random state  52  The training accuracy is : 0.8653232275738374\n",
      "for random state  52  The testing accuracy is : 0.8499601575303408\n",
      "\n",
      "\n",
      "for random state  53  The training accuracy is : 0.8624830216410443\n",
      "for random state  53  The testing accuracy is : 0.8712601010268763\n",
      "\n",
      "\n",
      "for random state  54  The training accuracy is : 0.8728740702837331\n",
      "for random state  54  The testing accuracy is : 0.8745469241730096\n",
      "\n",
      "\n",
      "for random state  55  The training accuracy is : 0.8598263752882152\n",
      "for random state  55  The testing accuracy is : 0.9006978113720129\n",
      "\n",
      "\n",
      "for random state  56  The training accuracy is : 0.8623041628945608\n",
      "for random state  56  The testing accuracy is : 0.8253230089009524\n",
      "\n",
      "\n",
      "for random state  57  The training accuracy is : 0.8511204959829007\n",
      "for random state  57  The testing accuracy is : 0.8922469715637334\n",
      "\n",
      "\n",
      "for random state  58  The training accuracy is : 0.871691897541544\n",
      "for random state  58  The testing accuracy is : 0.8101373469027277\n",
      "\n",
      "\n",
      "for random state  59  The training accuracy is : 0.8586573509865315\n",
      "for random state  59  The testing accuracy is : 0.8558674280743128\n",
      "\n",
      "\n",
      "for random state  60  The training accuracy is : 0.8588839752185347\n",
      "for random state  60  The testing accuracy is : 0.869306810011235\n",
      "\n",
      "\n",
      "for random state  61  The training accuracy is : 0.8665747044879855\n",
      "for random state  61  The testing accuracy is : 0.9070417270211566\n",
      "\n",
      "\n",
      "for random state  62  The training accuracy is : 0.8652066823892652\n",
      "for random state  62  The testing accuracy is : 0.834617456010281\n",
      "\n",
      "\n",
      "for random state  63  The training accuracy is : 0.8516482673550797\n",
      "for random state  63  The testing accuracy is : 0.902287801451054\n",
      "\n",
      "\n",
      "for random state  64  The training accuracy is : 0.8641694093022294\n",
      "for random state  64  The testing accuracy is : 0.8274656182933411\n",
      "\n",
      "\n",
      "for random state  65  The training accuracy is : 0.8639089559644593\n",
      "for random state  65  The testing accuracy is : 0.8890548388251258\n",
      "\n",
      "\n",
      "for random state  66  The training accuracy is : 0.857817922002847\n",
      "for random state  66  The testing accuracy is : 0.8328775788189614\n",
      "\n",
      "\n",
      "for random state  67  The training accuracy is : 0.8632139066674056\n",
      "for random state  67  The testing accuracy is : 0.8742009935242706\n",
      "\n",
      "\n",
      "for random state  68  The training accuracy is : 0.8595001541283751\n",
      "for random state  68  The testing accuracy is : 0.8840950150724337\n",
      "\n",
      "\n",
      "for random state  69  The training accuracy is : 0.8651758476148312\n",
      "for random state  69  The testing accuracy is : 0.830034928146893\n",
      "\n",
      "\n",
      "for random state  70  The training accuracy is : 0.8672672841757662\n",
      "for random state  70  The testing accuracy is : 0.8090316193041961\n",
      "\n",
      "\n",
      "for random state  71  The training accuracy is : 0.8587144048167776\n",
      "for random state  71  The testing accuracy is : 0.8262617445828884\n",
      "\n",
      "\n",
      "for random state  72  The training accuracy is : 0.8599797692686958\n",
      "for random state  72  The testing accuracy is : 0.8549795431857214\n",
      "\n",
      "\n",
      "for random state  73  The training accuracy is : 0.8686362089667609\n",
      "for random state  73  The testing accuracy is : 0.8136956831767052\n",
      "\n",
      "\n",
      "for random state  74  The training accuracy is : 0.8595995815119664\n",
      "for random state  74  The testing accuracy is : 0.8399948343895429\n",
      "\n",
      "\n",
      "for random state  75  The training accuracy is : 0.8584757887336764\n",
      "for random state  75  The testing accuracy is : 0.8815400007774657\n",
      "\n",
      "\n",
      "for random state  76  The training accuracy is : 0.8680970692062709\n",
      "for random state  76  The testing accuracy is : 0.764392188807434\n",
      "\n",
      "\n",
      "for random state  77  The training accuracy is : 0.8532664528200706\n",
      "for random state  77  The testing accuracy is : 0.8995217494211045\n",
      "\n",
      "\n",
      "for random state  78  The training accuracy is : 0.8491879852750086\n",
      "for random state  78  The testing accuracy is : 0.8781803809848151\n",
      "\n",
      "\n",
      "for random state  79  The training accuracy is : 0.8563921728828413\n",
      "for random state  79  The testing accuracy is : 0.829492293844513\n",
      "\n",
      "\n",
      "for random state  80  The training accuracy is : 0.8684359337427263\n",
      "for random state  80  The testing accuracy is : 0.8440963184813045\n",
      "\n",
      "\n",
      "for random state  81  The training accuracy is : 0.8540877672077953\n",
      "for random state  81  The testing accuracy is : 0.9038727588434501\n",
      "\n",
      "\n",
      "for random state  82  The training accuracy is : 0.8725377373132843\n",
      "for random state  82  The testing accuracy is : 0.8244675416240449\n",
      "\n",
      "\n",
      "for random state  83  The training accuracy is : 0.8511701065858972\n",
      "for random state  83  The testing accuracy is : 0.8850420515665001\n",
      "\n",
      "\n"
     ]
    },
    {
     "name": "stdout",
     "output_type": "stream",
     "text": [
      "for random state  84  The training accuracy is : 0.8640868628539224\n",
      "for random state  84  The testing accuracy is : 0.896108903257772\n",
      "\n",
      "\n",
      "for random state  85  The training accuracy is : 0.8604420079737283\n",
      "for random state  85  The testing accuracy is : 0.8555101869398611\n",
      "\n",
      "\n",
      "for random state  86  The training accuracy is : 0.8577644026314724\n",
      "for random state  86  The testing accuracy is : 0.9307013620771221\n",
      "\n",
      "\n",
      "for random state  87  The training accuracy is : 0.8592150162958669\n",
      "for random state  87  The testing accuracy is : 0.8227222121322535\n",
      "\n",
      "\n",
      "for random state  88  The training accuracy is : 0.8623936995728234\n",
      "for random state  88  The testing accuracy is : 0.8945969746098488\n",
      "\n",
      "\n",
      "for random state  89  The training accuracy is : 0.8543276662867125\n",
      "for random state  89  The testing accuracy is : 0.9144684319732689\n",
      "\n",
      "\n",
      "for random state  90  The training accuracy is : 0.8584991457999691\n",
      "for random state  90  The testing accuracy is : 0.8583925010373026\n",
      "\n",
      "\n",
      "for random state  91  The training accuracy is : 0.8609959698784717\n",
      "for random state  91  The testing accuracy is : 0.7951977441725365\n",
      "\n",
      "\n",
      "for random state  92  The training accuracy is : 0.8564038513169996\n",
      "for random state  92  The testing accuracy is : 0.8392504957511739\n",
      "\n",
      "\n",
      "for random state  93  The training accuracy is : 0.8571426196507012\n",
      "for random state  93  The testing accuracy is : 0.8513316823431202\n",
      "\n",
      "\n",
      "for random state  94  The training accuracy is : 0.8685671776574972\n",
      "for random state  94  The testing accuracy is : 0.8123332679684366\n",
      "\n",
      "\n",
      "for random state  95  The training accuracy is : 0.8724214753589695\n",
      "for random state  95  The testing accuracy is : 0.782091468602545\n",
      "\n",
      "\n",
      "for random state  96  The training accuracy is : 0.8785425405780316\n",
      "for random state  96  The testing accuracy is : 0.7700043014540736\n",
      "\n",
      "\n",
      "for random state  97  The training accuracy is : 0.8543159885791821\n",
      "for random state  97  The testing accuracy is : 0.8461214206405586\n",
      "\n",
      "\n",
      "for random state  98  The training accuracy is : 0.8524521107306485\n",
      "for random state  98  The testing accuracy is : 0.8766537241576255\n",
      "\n",
      "\n",
      "for random state  99  The training accuracy is : 0.8555516510521834\n",
      "for random state  99  The testing accuracy is : 0.8675267474583351\n",
      "\n",
      "\n",
      "for random state  100  The training accuracy is : 0.8509424097456646\n",
      "for random state  100  The testing accuracy is : 0.8813097935792245\n",
      "\n",
      "\n"
     ]
    }
   ],
   "source": [
    "# Using for loop to get best random state\n",
    "for i in range(0,101):\n",
    "    \n",
    "    X_train, X_test, y_train, y_test = train_test_split(X, y, test_size=24, random_state=i)\n",
    "    mod_3 = SVR() \n",
    "    mod_3.fit(X_train,y_train)\n",
    "    train_score_3 = mod_3.score(X_train,y_train)\n",
    "    pred_3 = mod_3.predict(X_test)\n",
    "    test_score_3 = r2_score(y_test,pred_3)\n",
    "    \n",
    "    print(\"for random state \",i,\" The training accuracy is :\",train_score_3)\n",
    "    print(\"for random state \",i,\" The testing accuracy is :\",test_score_3)\n",
    "    print(\"\\n\")\n"
   ]
  },
  {
   "cell_type": "code",
   "execution_count": 122,
   "metadata": {},
   "outputs": [
    {
     "name": "stdout",
     "output_type": "stream",
     "text": [
      "The training accuracy is : 0.8658713826439877\n",
      "The testing accuracy is : 0.8688283447310212\n",
      "\n",
      "\n"
     ]
    }
   ],
   "source": [
    "# Taking the best random state --> 15\n",
    "X_train, X_test, y_train, y_test = train_test_split(X, y, test_size=24, random_state=15)\n",
    "mod_3 = SVR() \n",
    "mod_3.fit(X_train,y_train)\n",
    "train_score_3 = mod_3.score(X_train,y_train)\n",
    "pred_3 = mod_3.predict(X_test)\n",
    "test_score_3 = r2_score(y_test,pred_3)\n",
    "    \n",
    "print(\"The training accuracy is :\",train_score_3)\n",
    "print(\"The testing accuracy is :\",test_score_3)\n",
    "print(\"\\n\")\n"
   ]
  },
  {
   "cell_type": "code",
   "execution_count": 123,
   "metadata": {},
   "outputs": [
    {
     "name": "stdout",
     "output_type": "stream",
     "text": [
      "4.199458266150672\n"
     ]
    }
   ],
   "source": [
    "MSE_3 = mean_squared_error(y_test,pred_3)\n",
    "print(MSE_3)"
   ]
  },
  {
   "cell_type": "code",
   "execution_count": 124,
   "metadata": {},
   "outputs": [],
   "source": [
    "# Cross Validation"
   ]
  },
  {
   "cell_type": "code",
   "execution_count": 125,
   "metadata": {},
   "outputs": [],
   "source": [
    "kfold = KFold(n_splits=10,random_state=24)\n",
    "\n",
    "K_results = cross_val_score(mod_3,X,y,cv=kfold)\n",
    "\n",
    "kfold_accuracy_SVR = np.mean(abs(K_results))"
   ]
  },
  {
   "cell_type": "code",
   "execution_count": 126,
   "metadata": {},
   "outputs": [
    {
     "data": {
      "text/plain": [
       "0.852038194157306"
      ]
     },
     "execution_count": 126,
     "metadata": {},
     "output_type": "execute_result"
    }
   ],
   "source": [
    "kfold_accuracy_SVR"
   ]
  },
  {
   "cell_type": "code",
   "execution_count": 127,
   "metadata": {},
   "outputs": [],
   "source": [
    "score = {\"Algorithm\":[\"Linear Regression\",\"Random Forest Regression\",\"SVR\"],\n",
    "         \"Training_Acc\":[train_score_1,train_score_2,train_score_3],\n",
    "        \"R2 Score\":[test_score_1,test_score_2,test_score_3],\n",
    "         \"MSE\":[MSE_1,MSE_2,MSE_3],\n",
    "        \"Cross_validation\":[kfold_accuracy_LR,kfold_accuracy_RFR,\n",
    "                           kfold_accuracy_SVR]}\n",
    "\n",
    "final_card = pd.DataFrame(score)"
   ]
  },
  {
   "cell_type": "code",
   "execution_count": 128,
   "metadata": {},
   "outputs": [
    {
     "data": {
      "text/html": [
       "<div>\n",
       "<style scoped>\n",
       "    .dataframe tbody tr th:only-of-type {\n",
       "        vertical-align: middle;\n",
       "    }\n",
       "\n",
       "    .dataframe tbody tr th {\n",
       "        vertical-align: top;\n",
       "    }\n",
       "\n",
       "    .dataframe thead th {\n",
       "        text-align: right;\n",
       "    }\n",
       "</style>\n",
       "<table border=\"1\" class=\"dataframe\">\n",
       "  <thead>\n",
       "    <tr style=\"text-align: right;\">\n",
       "      <th></th>\n",
       "      <th>Algorithm</th>\n",
       "      <th>Training_Acc</th>\n",
       "      <th>R2 Score</th>\n",
       "      <th>MSE</th>\n",
       "      <th>Cross_validation</th>\n",
       "    </tr>\n",
       "  </thead>\n",
       "  <tbody>\n",
       "    <tr>\n",
       "      <th>0</th>\n",
       "      <td>Linear Regression</td>\n",
       "      <td>0.894104</td>\n",
       "      <td>0.913436</td>\n",
       "      <td>2.783113</td>\n",
       "      <td>0.885626</td>\n",
       "    </tr>\n",
       "    <tr>\n",
       "      <th>1</th>\n",
       "      <td>Random Forest Regression</td>\n",
       "      <td>0.996849</td>\n",
       "      <td>0.989165</td>\n",
       "      <td>0.308588</td>\n",
       "      <td>0.978891</td>\n",
       "    </tr>\n",
       "    <tr>\n",
       "      <th>2</th>\n",
       "      <td>SVR</td>\n",
       "      <td>0.865871</td>\n",
       "      <td>0.868828</td>\n",
       "      <td>4.199458</td>\n",
       "      <td>0.852038</td>\n",
       "    </tr>\n",
       "  </tbody>\n",
       "</table>\n",
       "</div>"
      ],
      "text/plain": [
       "                  Algorithm  Training_Acc  R2 Score       MSE  \\\n",
       "0         Linear Regression      0.894104  0.913436  2.783113   \n",
       "1  Random Forest Regression      0.996849  0.989165  0.308588   \n",
       "2                       SVR      0.865871  0.868828  4.199458   \n",
       "\n",
       "   Cross_validation  \n",
       "0          0.885626  \n",
       "1          0.978891  \n",
       "2          0.852038  "
      ]
     },
     "execution_count": 128,
     "metadata": {},
     "output_type": "execute_result"
    }
   ],
   "source": [
    "final_card"
   ]
  },
  {
   "cell_type": "code",
   "execution_count": 129,
   "metadata": {},
   "outputs": [],
   "source": [
    "# Decision Tree"
   ]
  },
  {
   "cell_type": "code",
   "execution_count": 130,
   "metadata": {},
   "outputs": [],
   "source": [
    "from sklearn.tree import DecisionTreeRegressor"
   ]
  },
  {
   "cell_type": "code",
   "execution_count": 131,
   "metadata": {},
   "outputs": [
    {
     "name": "stdout",
     "output_type": "stream",
     "text": [
      "for random state  0  The training accuracy is : 1.0\n",
      "for random state  0  The testing accuracy is : 0.9746703212296149\n",
      "\n",
      "\n",
      "for random state  1  The training accuracy is : 1.0\n",
      "for random state  1  The testing accuracy is : 0.9614298166322314\n",
      "\n",
      "\n",
      "for random state  2  The training accuracy is : 1.0\n",
      "for random state  2  The testing accuracy is : 0.9191169003201236\n",
      "\n",
      "\n",
      "for random state  3  The training accuracy is : 1.0\n",
      "for random state  3  The testing accuracy is : 0.9627935265496087\n",
      "\n",
      "\n",
      "for random state  4  The training accuracy is : 1.0\n",
      "for random state  4  The testing accuracy is : 0.9453066918059675\n",
      "\n",
      "\n",
      "for random state  5  The training accuracy is : 1.0\n",
      "for random state  5  The testing accuracy is : 0.9491256537675847\n",
      "\n",
      "\n",
      "for random state  6  The training accuracy is : 1.0\n",
      "for random state  6  The testing accuracy is : 0.9177781317327118\n",
      "\n",
      "\n",
      "for random state  7  The training accuracy is : 1.0\n",
      "for random state  7  The testing accuracy is : 0.9478962511988658\n",
      "\n",
      "\n",
      "for random state  8  The training accuracy is : 1.0\n",
      "for random state  8  The testing accuracy is : 0.9380436821006624\n",
      "\n",
      "\n",
      "for random state  9  The training accuracy is : 1.0\n",
      "for random state  9  The testing accuracy is : 0.9640541462859743\n",
      "\n",
      "\n",
      "for random state  10  The training accuracy is : 1.0\n",
      "for random state  10  The testing accuracy is : 0.9293660785572089\n",
      "\n",
      "\n",
      "for random state  11  The training accuracy is : 1.0\n",
      "for random state  11  The testing accuracy is : 0.9780658891009891\n",
      "\n",
      "\n",
      "for random state  12  The training accuracy is : 1.0\n",
      "for random state  12  The testing accuracy is : 0.9768700574408203\n",
      "\n",
      "\n",
      "for random state  13  The training accuracy is : 1.0\n",
      "for random state  13  The testing accuracy is : 0.9769867758383963\n",
      "\n",
      "\n",
      "for random state  14  The training accuracy is : 1.0\n",
      "for random state  14  The testing accuracy is : 0.9703754985799813\n",
      "\n",
      "\n",
      "for random state  15  The training accuracy is : 1.0\n",
      "for random state  15  The testing accuracy is : 0.9584439360260468\n",
      "\n",
      "\n",
      "for random state  16  The training accuracy is : 1.0\n",
      "for random state  16  The testing accuracy is : 0.9348639603693807\n",
      "\n",
      "\n",
      "for random state  17  The training accuracy is : 1.0\n",
      "for random state  17  The testing accuracy is : 0.9555815295668268\n",
      "\n",
      "\n",
      "for random state  18  The training accuracy is : 1.0\n",
      "for random state  18  The testing accuracy is : 0.952575911941098\n",
      "\n",
      "\n",
      "for random state  19  The training accuracy is : 1.0\n",
      "for random state  19  The testing accuracy is : 0.9391578072103106\n",
      "\n",
      "\n",
      "for random state  20  The training accuracy is : 1.0\n",
      "for random state  20  The testing accuracy is : 0.973205174975283\n",
      "\n",
      "\n",
      "for random state  21  The training accuracy is : 1.0\n",
      "for random state  21  The testing accuracy is : 0.9681072769196868\n",
      "\n",
      "\n",
      "for random state  22  The training accuracy is : 1.0\n",
      "for random state  22  The testing accuracy is : 0.956776617954071\n",
      "\n",
      "\n",
      "for random state  23  The training accuracy is : 1.0\n",
      "for random state  23  The testing accuracy is : 0.9826939493494063\n",
      "\n",
      "\n",
      "for random state  24  The training accuracy is : 1.0\n",
      "for random state  24  The testing accuracy is : 0.963352884845583\n",
      "\n",
      "\n",
      "for random state  25  The training accuracy is : 1.0\n",
      "for random state  25  The testing accuracy is : 0.9391317473271643\n",
      "\n",
      "\n",
      "for random state  26  The training accuracy is : 1.0\n",
      "for random state  26  The testing accuracy is : 0.8948554376455901\n",
      "\n",
      "\n",
      "for random state  27  The training accuracy is : 1.0\n",
      "for random state  27  The testing accuracy is : 0.9397315612771311\n",
      "\n",
      "\n",
      "for random state  28  The training accuracy is : 1.0\n",
      "for random state  28  The testing accuracy is : 0.9792091309438272\n",
      "\n",
      "\n",
      "for random state  29  The training accuracy is : 1.0\n",
      "for random state  29  The testing accuracy is : 0.9669496256903315\n",
      "\n",
      "\n",
      "for random state  30  The training accuracy is : 1.0\n",
      "for random state  30  The testing accuracy is : 0.9393146345556768\n",
      "\n",
      "\n",
      "for random state  31  The training accuracy is : 1.0\n",
      "for random state  31  The testing accuracy is : 0.9624700738274774\n",
      "\n",
      "\n",
      "for random state  32  The training accuracy is : 1.0\n",
      "for random state  32  The testing accuracy is : 0.9360542237751689\n",
      "\n",
      "\n",
      "for random state  33  The training accuracy is : 1.0\n",
      "for random state  33  The testing accuracy is : 0.9357661122771876\n",
      "\n",
      "\n",
      "for random state  34  The training accuracy is : 1.0\n",
      "for random state  34  The testing accuracy is : 0.975484405969436\n",
      "\n",
      "\n",
      "for random state  35  The training accuracy is : 1.0\n",
      "for random state  35  The testing accuracy is : 0.8441793216465375\n",
      "\n",
      "\n",
      "for random state  36  The training accuracy is : 1.0\n",
      "for random state  36  The testing accuracy is : 0.9733412861829358\n",
      "\n",
      "\n",
      "for random state  37  The training accuracy is : 1.0\n",
      "for random state  37  The testing accuracy is : 0.9747133301676042\n",
      "\n",
      "\n",
      "for random state  38  The training accuracy is : 1.0\n",
      "for random state  38  The testing accuracy is : 0.9319089448639506\n",
      "\n",
      "\n",
      "for random state  39  The training accuracy is : 1.0\n",
      "for random state  39  The testing accuracy is : 0.9455392178000086\n",
      "\n",
      "\n",
      "for random state  40  The training accuracy is : 1.0\n",
      "for random state  40  The testing accuracy is : 0.9552924944138512\n",
      "\n",
      "\n",
      "for random state  41  The training accuracy is : 1.0\n",
      "for random state  41  The testing accuracy is : 0.9344368548495685\n",
      "\n",
      "\n",
      "for random state  42  The training accuracy is : 1.0\n",
      "for random state  42  The testing accuracy is : 0.912366001326217\n",
      "\n",
      "\n",
      "for random state  43  The training accuracy is : 1.0\n",
      "for random state  43  The testing accuracy is : 0.9839279454752564\n",
      "\n",
      "\n",
      "for random state  44  The training accuracy is : 1.0\n",
      "for random state  44  The testing accuracy is : 0.9591823977997249\n",
      "\n",
      "\n",
      "for random state  45  The training accuracy is : 1.0\n",
      "for random state  45  The testing accuracy is : 0.9798696888300323\n",
      "\n",
      "\n",
      "for random state  46  The training accuracy is : 1.0\n",
      "for random state  46  The testing accuracy is : 0.9543377962728424\n",
      "\n",
      "\n",
      "for random state  47  The training accuracy is : 1.0\n",
      "for random state  47  The testing accuracy is : 0.9609471660066043\n",
      "\n",
      "\n",
      "for random state  48  The training accuracy is : 1.0\n",
      "for random state  48  The testing accuracy is : 0.9537642001631691\n",
      "\n",
      "\n",
      "for random state  49  The training accuracy is : 1.0\n",
      "for random state  49  The testing accuracy is : 0.965294405081847\n",
      "\n",
      "\n",
      "for random state  50  The training accuracy is : 1.0\n",
      "for random state  50  The testing accuracy is : 0.9340704102414896\n",
      "\n",
      "\n",
      "for random state  51  The training accuracy is : 1.0\n",
      "for random state  51  The testing accuracy is : 0.9467522006789022\n",
      "\n",
      "\n",
      "for random state  52  The training accuracy is : 1.0\n",
      "for random state  52  The testing accuracy is : 0.9257587473246274\n",
      "\n",
      "\n",
      "for random state  53  The training accuracy is : 1.0\n",
      "for random state  53  The testing accuracy is : 0.9401700770357894\n",
      "\n",
      "\n",
      "for random state  54  The training accuracy is : 1.0\n",
      "for random state  54  The testing accuracy is : 0.9555243966482904\n",
      "\n",
      "\n",
      "for random state  55  The training accuracy is : 1.0\n",
      "for random state  55  The testing accuracy is : 0.9110896176177071\n",
      "\n",
      "\n",
      "for random state  56  The training accuracy is : 1.0\n",
      "for random state  56  The testing accuracy is : 0.9495218422905217\n",
      "\n",
      "\n",
      "for random state  57  The training accuracy is : 1.0\n",
      "for random state  57  The testing accuracy is : 0.9686106144263454\n",
      "\n",
      "\n",
      "for random state  58  The training accuracy is : 1.0\n",
      "for random state  58  The testing accuracy is : 0.9530920684005182\n",
      "\n",
      "\n",
      "for random state  59  The training accuracy is : 1.0\n",
      "for random state  59  The testing accuracy is : 0.9488272401782887\n",
      "\n",
      "\n",
      "for random state  60  The training accuracy is : 1.0\n",
      "for random state  60  The testing accuracy is : 0.9658580235776386\n",
      "\n",
      "\n",
      "for random state  61  The training accuracy is : 1.0\n",
      "for random state  61  The testing accuracy is : 0.9666335598593196\n",
      "\n",
      "\n",
      "for random state  62  The training accuracy is : 1.0\n",
      "for random state  62  The testing accuracy is : 0.9572242033820315\n",
      "\n",
      "\n",
      "for random state  63  The training accuracy is : 1.0\n",
      "for random state  63  The testing accuracy is : 0.9211940097101844\n",
      "\n",
      "\n",
      "for random state  64  The training accuracy is : 1.0\n",
      "for random state  64  The testing accuracy is : 0.939039148268376\n",
      "\n",
      "\n",
      "for random state  65  The training accuracy is : 1.0\n",
      "for random state  65  The testing accuracy is : 0.9555447530575669\n",
      "\n",
      "\n",
      "for random state  66  The training accuracy is : 1.0\n",
      "for random state  66  The testing accuracy is : 0.9558965427744641\n",
      "\n",
      "\n",
      "for random state  67  The training accuracy is : 1.0\n",
      "for random state  67  The testing accuracy is : 0.9561163094233248\n",
      "\n",
      "\n",
      "for random state  68  The training accuracy is : 1.0\n",
      "for random state  68  The testing accuracy is : 0.9523551467572793\n",
      "\n",
      "\n",
      "for random state  69  The training accuracy is : 1.0\n",
      "for random state  69  The testing accuracy is : 0.9559935856753902\n",
      "\n",
      "\n"
     ]
    },
    {
     "name": "stdout",
     "output_type": "stream",
     "text": [
      "for random state  70  The training accuracy is : 1.0\n",
      "for random state  70  The testing accuracy is : 0.9168632910197726\n",
      "\n",
      "\n",
      "for random state  71  The training accuracy is : 1.0\n",
      "for random state  71  The testing accuracy is : 0.9851926901004846\n",
      "\n",
      "\n",
      "for random state  72  The training accuracy is : 1.0\n",
      "for random state  72  The testing accuracy is : 0.9496982713239528\n",
      "\n",
      "\n",
      "for random state  73  The training accuracy is : 1.0\n",
      "for random state  73  The testing accuracy is : 0.9443442452145523\n",
      "\n",
      "\n",
      "for random state  74  The training accuracy is : 1.0\n",
      "for random state  74  The testing accuracy is : 0.9536131951654293\n",
      "\n",
      "\n",
      "for random state  75  The training accuracy is : 1.0\n",
      "for random state  75  The testing accuracy is : 0.9767499041838745\n",
      "\n",
      "\n",
      "for random state  76  The training accuracy is : 1.0\n",
      "for random state  76  The testing accuracy is : 0.8120371365190516\n",
      "\n",
      "\n",
      "for random state  77  The training accuracy is : 1.0\n",
      "for random state  77  The testing accuracy is : 0.9616358315846216\n",
      "\n",
      "\n",
      "for random state  78  The training accuracy is : 1.0\n",
      "for random state  78  The testing accuracy is : 0.9701032445663176\n",
      "\n",
      "\n",
      "for random state  79  The training accuracy is : 1.0\n",
      "for random state  79  The testing accuracy is : 0.9510263095886037\n",
      "\n",
      "\n",
      "for random state  80  The training accuracy is : 1.0\n",
      "for random state  80  The testing accuracy is : 0.9585055624450434\n",
      "\n",
      "\n",
      "for random state  81  The training accuracy is : 1.0\n",
      "for random state  81  The testing accuracy is : 0.9466430504305043\n",
      "\n",
      "\n",
      "for random state  82  The training accuracy is : 1.0\n",
      "for random state  82  The testing accuracy is : 0.8837304258582827\n",
      "\n",
      "\n",
      "for random state  83  The training accuracy is : 1.0\n",
      "for random state  83  The testing accuracy is : 0.962869395003032\n",
      "\n",
      "\n",
      "for random state  84  The training accuracy is : 1.0\n",
      "for random state  84  The testing accuracy is : 0.9326286886330555\n",
      "\n",
      "\n",
      "for random state  85  The training accuracy is : 1.0\n",
      "for random state  85  The testing accuracy is : 0.9387790127345002\n",
      "\n",
      "\n",
      "for random state  86  The training accuracy is : 1.0\n",
      "for random state  86  The testing accuracy is : 0.9109178942482589\n",
      "\n",
      "\n",
      "for random state  87  The training accuracy is : 1.0\n",
      "for random state  87  The testing accuracy is : 0.9260625596778195\n",
      "\n",
      "\n",
      "for random state  88  The training accuracy is : 1.0\n",
      "for random state  88  The testing accuracy is : 0.9787027770828121\n",
      "\n",
      "\n",
      "for random state  89  The training accuracy is : 1.0\n",
      "for random state  89  The testing accuracy is : 0.9613916009027795\n",
      "\n",
      "\n",
      "for random state  90  The training accuracy is : 1.0\n",
      "for random state  90  The testing accuracy is : 0.9244843480191984\n",
      "\n",
      "\n",
      "for random state  91  The training accuracy is : 1.0\n",
      "for random state  91  The testing accuracy is : 0.9284915982279587\n",
      "\n",
      "\n",
      "for random state  92  The training accuracy is : 1.0\n",
      "for random state  92  The testing accuracy is : 0.9517747510705257\n",
      "\n",
      "\n",
      "for random state  93  The training accuracy is : 1.0\n",
      "for random state  93  The testing accuracy is : 0.9459611886644208\n",
      "\n",
      "\n",
      "for random state  94  The training accuracy is : 1.0\n",
      "for random state  94  The testing accuracy is : 0.9109067828592994\n",
      "\n",
      "\n",
      "for random state  95  The training accuracy is : 1.0\n",
      "for random state  95  The testing accuracy is : 0.9371202619813305\n",
      "\n",
      "\n",
      "for random state  96  The training accuracy is : 1.0\n",
      "for random state  96  The testing accuracy is : 0.9671046006565653\n",
      "\n",
      "\n",
      "for random state  97  The training accuracy is : 1.0\n",
      "for random state  97  The testing accuracy is : 0.9569259239244332\n",
      "\n",
      "\n",
      "for random state  98  The training accuracy is : 1.0\n",
      "for random state  98  The testing accuracy is : 0.9556289152503867\n",
      "\n",
      "\n",
      "for random state  99  The training accuracy is : 1.0\n",
      "for random state  99  The testing accuracy is : 0.9631828927953465\n",
      "\n",
      "\n",
      "for random state  100  The training accuracy is : 1.0\n",
      "for random state  100  The testing accuracy is : 0.9419490063125306\n",
      "\n",
      "\n"
     ]
    }
   ],
   "source": [
    "for i in range(0,101):\n",
    "    \n",
    "    X_train, X_test, y_train, y_test = train_test_split(X, y, test_size=24, random_state=i)\n",
    "    mod_4 = DecisionTreeRegressor() \n",
    "    mod_4.fit(X_train,y_train)\n",
    "    train_score_4 = mod_4.score(X_train,y_train)\n",
    "    pred_4 = mod_4.predict(X_test)\n",
    "    test_score_4 = r2_score(y_test,pred_4)\n",
    "    \n",
    "    print(\"for random state \",i,\" The training accuracy is :\",train_score_4)\n",
    "    print(\"for random state \",i,\" The testing accuracy is :\",test_score_4)\n",
    "    print(\"\\n\")"
   ]
  },
  {
   "cell_type": "code",
   "execution_count": 132,
   "metadata": {},
   "outputs": [],
   "source": [
    "# Taking the best random state as --> 23"
   ]
  },
  {
   "cell_type": "code",
   "execution_count": 133,
   "metadata": {},
   "outputs": [
    {
     "name": "stdout",
     "output_type": "stream",
     "text": [
      "The training accuracy is : 1.0\n",
      "The testing accuracy is : 0.980171767079701\n",
      "\n",
      "\n"
     ]
    }
   ],
   "source": [
    "X_train, X_test, y_train, y_test = train_test_split(X, y, test_size=24, random_state=23)\n",
    "mod_4 = DecisionTreeRegressor() \n",
    "mod_4.fit(X_train,y_train)\n",
    "train_score_4 = mod_4.score(X_train,y_train)\n",
    "pred_4 = mod_4.predict(X_test)\n",
    "test_score_4 = r2_score(y_test,pred_4)\n",
    "    \n",
    "print(\"The training accuracy is :\",train_score_4)\n",
    "print(\"The testing accuracy is :\",test_score_4)\n",
    "print(\"\\n\")"
   ]
  },
  {
   "cell_type": "code",
   "execution_count": 134,
   "metadata": {},
   "outputs": [
    {
     "name": "stdout",
     "output_type": "stream",
     "text": [
      "0.6387500000000003\n"
     ]
    }
   ],
   "source": [
    "MSE_4 = mean_squared_error(y_test,pred_4)\n",
    "print(MSE_4)"
   ]
  },
  {
   "cell_type": "code",
   "execution_count": 135,
   "metadata": {},
   "outputs": [],
   "source": [
    "# Cross Validation"
   ]
  },
  {
   "cell_type": "code",
   "execution_count": 136,
   "metadata": {},
   "outputs": [],
   "source": [
    "kfold = KFold(n_splits=10,random_state=24)\n",
    "\n",
    "K_results = cross_val_score(mod_4,X,y,cv=kfold)\n",
    "\n",
    "kfold_accuracy_DT = np.mean(abs(K_results))"
   ]
  },
  {
   "cell_type": "code",
   "execution_count": 137,
   "metadata": {},
   "outputs": [
    {
     "data": {
      "text/plain": [
       "0.9515468945606929"
      ]
     },
     "execution_count": 137,
     "metadata": {},
     "output_type": "execute_result"
    }
   ],
   "source": [
    "kfold_accuracy_DT"
   ]
  },
  {
   "cell_type": "code",
   "execution_count": 138,
   "metadata": {},
   "outputs": [],
   "source": [
    "score = {\"Algorithm\":[\"Linear Regression\",\"Random Forest Regression\",\"SVR\",\"Decision Tree\"],\n",
    "         \"Training_Acc\":[train_score_1,train_score_2,train_score_3,train_score_4],\n",
    "        \"R2 Score\":[test_score_1,test_score_2,test_score_3,test_score_4],\n",
    "         \"MSE\":[MSE_1,MSE_2,MSE_3,MSE_4],\n",
    "        \"Cross_validation\":[kfold_accuracy_LR,kfold_accuracy_RFR,\n",
    "                           kfold_accuracy_SVR,kfold_accuracy_DT]}\n",
    "\n",
    "final_card = pd.DataFrame(score)"
   ]
  },
  {
   "cell_type": "code",
   "execution_count": 139,
   "metadata": {},
   "outputs": [
    {
     "data": {
      "text/html": [
       "<div>\n",
       "<style scoped>\n",
       "    .dataframe tbody tr th:only-of-type {\n",
       "        vertical-align: middle;\n",
       "    }\n",
       "\n",
       "    .dataframe tbody tr th {\n",
       "        vertical-align: top;\n",
       "    }\n",
       "\n",
       "    .dataframe thead th {\n",
       "        text-align: right;\n",
       "    }\n",
       "</style>\n",
       "<table border=\"1\" class=\"dataframe\">\n",
       "  <thead>\n",
       "    <tr style=\"text-align: right;\">\n",
       "      <th></th>\n",
       "      <th>Algorithm</th>\n",
       "      <th>Training_Acc</th>\n",
       "      <th>R2 Score</th>\n",
       "      <th>MSE</th>\n",
       "      <th>Cross_validation</th>\n",
       "    </tr>\n",
       "  </thead>\n",
       "  <tbody>\n",
       "    <tr>\n",
       "      <th>0</th>\n",
       "      <td>Linear Regression</td>\n",
       "      <td>0.894104</td>\n",
       "      <td>0.913436</td>\n",
       "      <td>2.783113</td>\n",
       "      <td>0.885626</td>\n",
       "    </tr>\n",
       "    <tr>\n",
       "      <th>1</th>\n",
       "      <td>Random Forest Regression</td>\n",
       "      <td>0.996849</td>\n",
       "      <td>0.989165</td>\n",
       "      <td>0.308588</td>\n",
       "      <td>0.978891</td>\n",
       "    </tr>\n",
       "    <tr>\n",
       "      <th>2</th>\n",
       "      <td>SVR</td>\n",
       "      <td>0.865871</td>\n",
       "      <td>0.868828</td>\n",
       "      <td>4.199458</td>\n",
       "      <td>0.852038</td>\n",
       "    </tr>\n",
       "    <tr>\n",
       "      <th>3</th>\n",
       "      <td>Decision Tree</td>\n",
       "      <td>1.000000</td>\n",
       "      <td>0.980172</td>\n",
       "      <td>0.638750</td>\n",
       "      <td>0.951547</td>\n",
       "    </tr>\n",
       "  </tbody>\n",
       "</table>\n",
       "</div>"
      ],
      "text/plain": [
       "                  Algorithm  Training_Acc  R2 Score       MSE  \\\n",
       "0         Linear Regression      0.894104  0.913436  2.783113   \n",
       "1  Random Forest Regression      0.996849  0.989165  0.308588   \n",
       "2                       SVR      0.865871  0.868828  4.199458   \n",
       "3             Decision Tree      1.000000  0.980172  0.638750   \n",
       "\n",
       "   Cross_validation  \n",
       "0          0.885626  \n",
       "1          0.978891  \n",
       "2          0.852038  \n",
       "3          0.951547  "
      ]
     },
     "execution_count": 139,
     "metadata": {},
     "output_type": "execute_result"
    }
   ],
   "source": [
    "final_card"
   ]
  },
  {
   "cell_type": "code",
   "execution_count": 140,
   "metadata": {},
   "outputs": [
    {
     "data": {
      "image/png": "[encoded data removed]",
      "text/plain": [
       "<Figure size 432x288 with 1 Axes>"
      ]
     },
     "metadata": {},
     "output_type": "display_data"
    }
   ],
   "source": [
    "# Algorithm performance\n",
    "sns.set(style=\"whitegrid\")\n",
    "ax = sns.barplot(y=\"Algorithm\",x=\"Cross_validation\",data=final_card)"
   ]
  },
  {
   "cell_type": "code",
   "execution_count": 141,
   "metadata": {},
   "outputs": [],
   "source": [
    "# With the crossvalidation score and MSE lets go ahead with Random forest Regressor"
   ]
  },
  {
   "cell_type": "markdown",
   "metadata": {},
   "source": [
    "# HyperParaMetric Tuning"
   ]
  },
  {
   "cell_type": "code",
   "execution_count": 142,
   "metadata": {},
   "outputs": [],
   "source": [
    "from sklearn.model_selection import RandomizedSearchCV"
   ]
  },
  {
   "cell_type": "code",
   "execution_count": 143,
   "metadata": {},
   "outputs": [],
   "source": [
    "#Random grid parameters\n",
    "n_estimators=[100,150,200,250,300]\n",
    "criterion=[\"mse\",\"mae\"]\n",
    "min_samples_split=[2,3,4,5,6]\n",
    "min_samples_leaf=[1,2,3,4,5]\n",
    "min_weight_fraction_leaf=[0.0,0.1,0.2,0.3,0.4]\n",
    "max_features=[\"auto\",\"sqrt\",\"log2\"]"
   ]
  },
  {
   "cell_type": "code",
   "execution_count": 144,
   "metadata": {},
   "outputs": [],
   "source": [
    "random_grid = {\n",
    "    \"n_estimators\":n_estimators,\n",
    "    \"criterion\":criterion,\n",
    "    \"min_samples_split\":min_samples_split,\n",
    "    \"min_samples_leaf\":min_samples_leaf,\n",
    "    \"min_weight_fraction_leaf\":min_weight_fraction_leaf,\n",
    "    \"max_features\":max_features\n",
    "}"
   ]
  },
  {
   "cell_type": "code",
   "execution_count": 145,
   "metadata": {},
   "outputs": [
    {
     "name": "stdout",
     "output_type": "stream",
     "text": [
      "{'n_estimators': [100, 150, 200, 250, 300], 'criterion': ['mse', 'mae'], 'min_samples_split': [2, 3, 4, 5, 6], 'min_samples_leaf': [1, 2, 3, 4, 5], 'min_weight_fraction_leaf': [0.0, 0.1, 0.2, 0.3, 0.4], 'max_features': ['auto', 'sqrt', 'log2']}\n"
     ]
    }
   ],
   "source": [
    "print(random_grid)"
   ]
  },
  {
   "cell_type": "code",
   "execution_count": 146,
   "metadata": {},
   "outputs": [],
   "source": [
    "model_final = RandomForestRegressor()"
   ]
  },
  {
   "cell_type": "code",
   "execution_count": 147,
   "metadata": {},
   "outputs": [],
   "source": [
    "random_RFR = RandomizedSearchCV(estimator=model_final,param_distributions=random_grid)                                            "
   ]
  },
  {
   "cell_type": "code",
   "execution_count": 148,
   "metadata": {},
   "outputs": [
    {
     "data": {
      "text/plain": [
       "RandomizedSearchCV(estimator=RandomForestRegressor(),\n",
       "                   param_distributions={'criterion': ['mse', 'mae'],\n",
       "                                        'max_features': ['auto', 'sqrt',\n",
       "                                                         'log2'],\n",
       "                                        'min_samples_leaf': [1, 2, 3, 4, 5],\n",
       "                                        'min_samples_split': [2, 3, 4, 5, 6],\n",
       "                                        'min_weight_fraction_leaf': [0.0, 0.1,\n",
       "                                                                     0.2, 0.3,\n",
       "                                                                     0.4],\n",
       "                                        'n_estimators': [100, 150, 200, 250,\n",
       "                                                         300]})"
      ]
     },
     "execution_count": 148,
     "metadata": {},
     "output_type": "execute_result"
    }
   ],
   "source": [
    "random_RFR.fit(X_train,y_train)"
   ]
  },
  {
   "cell_type": "code",
   "execution_count": 149,
   "metadata": {},
   "outputs": [
    {
     "data": {
      "text/plain": [
       "RandomForestRegressor(criterion='mae', min_samples_leaf=3, min_samples_split=4,\n",
       "                      n_estimators=200)"
      ]
     },
     "execution_count": 149,
     "metadata": {},
     "output_type": "execute_result"
    }
   ],
   "source": [
    "random_RFR.best_estimator_"
   ]
  },
  {
   "cell_type": "code",
   "execution_count": 150,
   "metadata": {},
   "outputs": [
    {
     "data": {
      "text/plain": [
       "{'n_estimators': 200,\n",
       " 'min_weight_fraction_leaf': 0.0,\n",
       " 'min_samples_split': 4,\n",
       " 'min_samples_leaf': 3,\n",
       " 'max_features': 'auto',\n",
       " 'criterion': 'mae'}"
      ]
     },
     "execution_count": 150,
     "metadata": {},
     "output_type": "execute_result"
    }
   ],
   "source": [
    "random_RFR.best_params_"
   ]
  },
  {
   "cell_type": "code",
   "execution_count": 151,
   "metadata": {},
   "outputs": [
    {
     "data": {
      "text/plain": [
       "0.9664701293467056"
      ]
     },
     "execution_count": 151,
     "metadata": {},
     "output_type": "execute_result"
    }
   ],
   "source": [
    "random_RFR.best_score_"
   ]
  },
  {
   "cell_type": "code",
   "execution_count": 152,
   "metadata": {},
   "outputs": [],
   "source": [
    "predictions_Last = random_RFR.predict(X_test)"
   ]
  },
  {
   "cell_type": "code",
   "execution_count": 153,
   "metadata": {},
   "outputs": [
    {
     "data": {
      "text/plain": [
       "0.9795790855310809"
      ]
     },
     "execution_count": 153,
     "metadata": {},
     "output_type": "execute_result"
    }
   ],
   "source": [
    "r2_score(y_test,predictions_Last)"
   ]
  },
  {
   "cell_type": "code",
   "execution_count": 154,
   "metadata": {},
   "outputs": [
    {
     "data": {
      "text/plain": [
       "0.6578427421875077"
      ]
     },
     "execution_count": 154,
     "metadata": {},
     "output_type": "execute_result"
    }
   ],
   "source": [
    "mean_squared_error(y_test,predictions_Last)"
   ]
  },
  {
   "cell_type": "code",
   "execution_count": 155,
   "metadata": {},
   "outputs": [],
   "source": [
    "from sklearn.metrics import mean_absolute_error"
   ]
  },
  {
   "cell_type": "code",
   "execution_count": 156,
   "metadata": {},
   "outputs": [
    {
     "data": {
      "text/plain": [
       "0.6170104166666702"
      ]
     },
     "execution_count": 156,
     "metadata": {},
     "output_type": "execute_result"
    }
   ],
   "source": [
    "mean_absolute_error(y_test,predictions_Last)"
   ]
  },
  {
   "cell_type": "code",
   "execution_count": 157,
   "metadata": {},
   "outputs": [
    {
     "data": {
      "text/plain": [
       "0.8110750533628239"
      ]
     },
     "execution_count": 157,
     "metadata": {},
     "output_type": "execute_result"
    }
   ],
   "source": [
    "np.sqrt(mean_squared_error(y_test,predictions_Last))"
   ]
  },
  {
   "cell_type": "markdown",
   "metadata": {},
   "source": [
    "# Lets check the feature importance of RFR"
   ]
  },
  {
   "cell_type": "code",
   "execution_count": 158,
   "metadata": {},
   "outputs": [],
   "source": [
    "df_fin = df.drop(\"sales\",axis=1)"
   ]
  },
  {
   "cell_type": "code",
   "execution_count": 159,
   "metadata": {},
   "outputs": [
    {
     "data": {
      "text/plain": [
       "<AxesSubplot:>"
      ]
     },
     "execution_count": 159,
     "metadata": {},
     "output_type": "execute_result"
    },
    {
     "data": {
      "image/png": "[encoded data removed]",
      "text/plain": [
       "<Figure size 432x288 with 1 Axes>"
      ]
     },
     "metadata": {},
     "output_type": "display_data"
    }
   ],
   "source": [
    "sns.barplot(x=df_fin.columns,y=mod_2.feature_importances_)"
   ]
  },
  {
   "cell_type": "code",
   "execution_count": 160,
   "metadata": {},
   "outputs": [],
   "source": [
    "# We can clearly observe that TV is having a high impact on sales\n",
    "\n",
    "# followed by TV and newspaper\n",
    "\n",
    "# The company should invest more on TV advertisements"
   ]
  },
  {
   "cell_type": "markdown",
   "metadata": {},
   "source": [
    "# Saving the model"
   ]
  },
  {
   "cell_type": "code",
   "execution_count": 161,
   "metadata": {},
   "outputs": [],
   "source": [
    "import pickle"
   ]
  },
  {
   "cell_type": "code",
   "execution_count": 162,
   "metadata": {},
   "outputs": [],
   "source": [
    "with open(\"model_pickle\",\"wb\") as f:\n",
    "    \n",
    "    pickle.dump(random_RFR,f)"
   ]
  },
  {
   "cell_type": "code",
   "execution_count": 163,
   "metadata": {},
   "outputs": [],
   "source": [
    "with open(\"model_pickle\",\"rb\") as f:\n",
    "    \n",
    "    adverts = pickle.load(f)"
   ]
  },
  {
   "cell_type": "markdown",
   "metadata": {},
   "source": [
    "# Conclusion"
   ]
  },
  {
   "cell_type": "code",
   "execution_count": 164,
   "metadata": {},
   "outputs": [
    {
     "data": {
      "text/plain": [
       "array([230.1       ,  37.8       ,  22.1       ,  10.60927578])"
      ]
     },
     "execution_count": 164,
     "metadata": {},
     "output_type": "execute_result"
    }
   ],
   "source": [
    "# The model needs to predict something close to 22.1 \n",
    "# for this inputs\n",
    "df.iloc[0,0:].values"
   ]
  },
  {
   "cell_type": "code",
   "execution_count": 165,
   "metadata": {},
   "outputs": [
    {
     "data": {
      "text/plain": [
       "array([22.])"
      ]
     },
     "execution_count": 165,
     "metadata": {},
     "output_type": "execute_result"
    }
   ],
   "source": [
    "# The model is predicting a close by value\n",
    "adverts.predict([[230.1,37.8,10.6]])"
   ]
  },
  {
   "cell_type": "code",
   "execution_count": 166,
   "metadata": {},
   "outputs": [
    {
     "data": {
      "text/plain": [
       "array([180.8       ,  10.8       ,  12.9       ,   9.79469996])"
      ]
     },
     "execution_count": 166,
     "metadata": {},
     "output_type": "execute_result"
    }
   ],
   "source": [
    "# The model needs to predict something close to 12.9\n",
    "df.iloc[4,0:].values"
   ]
  },
  {
   "cell_type": "code",
   "execution_count": 167,
   "metadata": {},
   "outputs": [
    {
     "data": {
      "text/plain": [
       "array([13.45075])"
      ]
     },
     "execution_count": 167,
     "metadata": {},
     "output_type": "execute_result"
    }
   ],
   "source": [
    "# The model is predicting a close by value\n",
    "adverts.predict([[180.8,10.8,9.79]])"
   ]
  },
  {
   "cell_type": "code",
   "execution_count": 168,
   "metadata": {},
   "outputs": [
    {
     "data": {
      "text/plain": [
       "Text(0, 0.5, 'Predicted Y')"
      ]
     },
     "execution_count": 168,
     "metadata": {},
     "output_type": "execute_result"
    },
    {
     "data": {
      "image/png": "[encoded data removed]",
      "text/plain": [
       "<Figure size 432x288 with 1 Axes>"
      ]
     },
     "metadata": {},
     "output_type": "display_data"
    }
   ],
   "source": [
    "#scatterplot of the real test values versus the predicted values\n",
    "plt.scatter(y_test,predictions_Last)\n",
    "plt.xlabel('Y Test')\n",
    "plt.ylabel('Predicted Y')"
   ]
  },
  {
   "cell_type": "code",
   "execution_count": 169,
   "metadata": {},
   "outputs": [
    {
     "data": {
      "image/png": "[encoded data removed]",
      "text/plain": [
       "<Figure size 432x288 with 1 Axes>"
      ]
     },
     "metadata": {},
     "output_type": "display_data"
    }
   ],
   "source": [
    "#Ploting a histogram of the residuals to make sure it looks normally distributed\n",
    "sns.distplot((y_test-predictions_Last));"
   ]
  },
  {
   "cell_type": "code",
   "execution_count": 170,
   "metadata": {},
   "outputs": [
    {
     "name": "stdout",
     "output_type": "stream",
     "text": [
      "[[ 8.69675  8.8    ]\n",
      " [20.2105  21.4    ]\n",
      " [14.821   15.9    ]\n",
      " [14.281   14.2    ]\n",
      " [18.27725 19.     ]\n",
      " [ 7.17475  6.6    ]\n",
      " [15.41725 15.5    ]\n",
      " [15.85225 14.6    ]\n",
      " [24.239   25.5    ]\n",
      " [11.871   11.5    ]\n",
      " [21.73025 22.6    ]\n",
      " [ 7.83775  8.7    ]\n",
      " [10.00275 10.6    ]\n",
      " [12.21275 12.3    ]\n",
      " [ 9.84075  9.9    ]\n",
      " [12.999   13.4    ]\n",
      " [10.9045  10.1    ]\n",
      " [ 9.58225  9.7    ]\n",
      " [19.179   19.4    ]\n",
      " [11.3195  10.9    ]\n",
      " [24.76925 27.     ]\n",
      " [21.574   22.6    ]\n",
      " [18.1105  18.     ]\n",
      " [ 9.11575  9.4    ]]\n"
     ]
    }
   ],
   "source": [
    "# Comparing predicted value vs actual value\n",
    "print(np.concatenate((predictions_Last.reshape(len(predictions_Last),1), y_test.reshape(len(y_test),1)),1))"
   ]
  },
  {
   "cell_type": "markdown",
   "metadata": {},
   "source": [
    "# Most of the predictions are close by"
   ]
  }
 ],
 "metadata": {
  "kernelspec": {
   "display_name": "Python 3",
   "language": "python",
   "name": "python3"
  },
  "language_info": {
   "codemirror_mode": {
    "name": "ipython",
    "version": 3
   },
   "file_extension": ".py",
   "mimetype": "text/x-python",
   "name": "python",
   "nbconvert_exporter": "python",
   "pygments_lexer": "ipython3",
   "version": "3.8.5"
  }
 },
 "nbformat": 4,
 "nbformat_minor": 4
}
